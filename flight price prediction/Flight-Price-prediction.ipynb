{
 "cells": [
  {
   "cell_type": "markdown",
   "id": "1583490c",
   "metadata": {},
   "source": [
    "#### Flight price prediction with train & test data set"
   ]
  },
  {
   "cell_type": "code",
   "execution_count": 1,
   "id": "276e19c4",
   "metadata": {},
   "outputs": [],
   "source": [
    "#import libraries\n",
    "import pandas as pd\n",
    "import numpy as np\n",
    "import seaborn as sns\n",
    "import matplotlib.pyplot as plt"
   ]
  },
  {
   "cell_type": "code",
   "execution_count": 2,
   "id": "0eeca5f8",
   "metadata": {},
   "outputs": [],
   "source": [
    "#load data\n",
    "Train_data = pd.read_excel(\"Flight_Data_Train.xlsx\")"
   ]
  },
  {
   "cell_type": "code",
   "execution_count": 3,
   "id": "9cfa36f4",
   "metadata": {},
   "outputs": [
    {
     "data": {
      "text/html": [
       "<div>\n",
       "<style scoped>\n",
       "    .dataframe tbody tr th:only-of-type {\n",
       "        vertical-align: middle;\n",
       "    }\n",
       "\n",
       "    .dataframe tbody tr th {\n",
       "        vertical-align: top;\n",
       "    }\n",
       "\n",
       "    .dataframe thead th {\n",
       "        text-align: right;\n",
       "    }\n",
       "</style>\n",
       "<table border=\"1\" class=\"dataframe\">\n",
       "  <thead>\n",
       "    <tr style=\"text-align: right;\">\n",
       "      <th></th>\n",
       "      <th>Airline</th>\n",
       "      <th>Date_of_Journey</th>\n",
       "      <th>Source</th>\n",
       "      <th>Destination</th>\n",
       "      <th>Route</th>\n",
       "      <th>Dep_Time</th>\n",
       "      <th>Arrival_Time</th>\n",
       "      <th>Duration</th>\n",
       "      <th>Total_Stops</th>\n",
       "      <th>Additional_Info</th>\n",
       "      <th>Price</th>\n",
       "    </tr>\n",
       "  </thead>\n",
       "  <tbody>\n",
       "    <tr>\n",
       "      <th>0</th>\n",
       "      <td>IndiGo</td>\n",
       "      <td>24/03/2019</td>\n",
       "      <td>Banglore</td>\n",
       "      <td>New Delhi</td>\n",
       "      <td>BLR → DEL</td>\n",
       "      <td>22:20</td>\n",
       "      <td>01:10 22 Mar</td>\n",
       "      <td>2h 50m</td>\n",
       "      <td>non-stop</td>\n",
       "      <td>No info</td>\n",
       "      <td>3897</td>\n",
       "    </tr>\n",
       "    <tr>\n",
       "      <th>1</th>\n",
       "      <td>Air India</td>\n",
       "      <td>1/05/2019</td>\n",
       "      <td>Kolkata</td>\n",
       "      <td>Banglore</td>\n",
       "      <td>CCU → IXR → BBI → BLR</td>\n",
       "      <td>05:50</td>\n",
       "      <td>13:15</td>\n",
       "      <td>7h 25m</td>\n",
       "      <td>2 stops</td>\n",
       "      <td>No info</td>\n",
       "      <td>7662</td>\n",
       "    </tr>\n",
       "    <tr>\n",
       "      <th>2</th>\n",
       "      <td>Jet Airways</td>\n",
       "      <td>9/06/2019</td>\n",
       "      <td>Delhi</td>\n",
       "      <td>Cochin</td>\n",
       "      <td>DEL → LKO → BOM → COK</td>\n",
       "      <td>09:25</td>\n",
       "      <td>04:25 10 Jun</td>\n",
       "      <td>19h</td>\n",
       "      <td>2 stops</td>\n",
       "      <td>No info</td>\n",
       "      <td>13882</td>\n",
       "    </tr>\n",
       "    <tr>\n",
       "      <th>3</th>\n",
       "      <td>IndiGo</td>\n",
       "      <td>12/05/2019</td>\n",
       "      <td>Kolkata</td>\n",
       "      <td>Banglore</td>\n",
       "      <td>CCU → NAG → BLR</td>\n",
       "      <td>18:05</td>\n",
       "      <td>23:30</td>\n",
       "      <td>5h 25m</td>\n",
       "      <td>1 stop</td>\n",
       "      <td>No info</td>\n",
       "      <td>6218</td>\n",
       "    </tr>\n",
       "    <tr>\n",
       "      <th>4</th>\n",
       "      <td>IndiGo</td>\n",
       "      <td>01/03/2019</td>\n",
       "      <td>Banglore</td>\n",
       "      <td>New Delhi</td>\n",
       "      <td>BLR → NAG → DEL</td>\n",
       "      <td>16:50</td>\n",
       "      <td>21:35</td>\n",
       "      <td>4h 45m</td>\n",
       "      <td>1 stop</td>\n",
       "      <td>No info</td>\n",
       "      <td>13302</td>\n",
       "    </tr>\n",
       "  </tbody>\n",
       "</table>\n",
       "</div>"
      ],
      "text/plain": [
       "       Airline Date_of_Journey    Source Destination                  Route  \\\n",
       "0       IndiGo      24/03/2019  Banglore   New Delhi              BLR → DEL   \n",
       "1    Air India       1/05/2019   Kolkata    Banglore  CCU → IXR → BBI → BLR   \n",
       "2  Jet Airways       9/06/2019     Delhi      Cochin  DEL → LKO → BOM → COK   \n",
       "3       IndiGo      12/05/2019   Kolkata    Banglore        CCU → NAG → BLR   \n",
       "4       IndiGo      01/03/2019  Banglore   New Delhi        BLR → NAG → DEL   \n",
       "\n",
       "  Dep_Time  Arrival_Time Duration Total_Stops Additional_Info  Price  \n",
       "0    22:20  01:10 22 Mar   2h 50m    non-stop         No info   3897  \n",
       "1    05:50         13:15   7h 25m     2 stops         No info   7662  \n",
       "2    09:25  04:25 10 Jun      19h     2 stops         No info  13882  \n",
       "3    18:05         23:30   5h 25m      1 stop         No info   6218  \n",
       "4    16:50         21:35   4h 45m      1 stop         No info  13302  "
      ]
     },
     "execution_count": 3,
     "metadata": {},
     "output_type": "execute_result"
    }
   ],
   "source": [
    "Train_data.head()"
   ]
  },
  {
   "cell_type": "code",
   "execution_count": 4,
   "id": "c5ca6041",
   "metadata": {},
   "outputs": [
    {
     "data": {
      "text/plain": [
       "(10683, 11)"
      ]
     },
     "execution_count": 4,
     "metadata": {},
     "output_type": "execute_result"
    }
   ],
   "source": [
    "#checking shape of data \n",
    "Train_data.shape"
   ]
  },
  {
   "cell_type": "code",
   "execution_count": 5,
   "id": "5c3dd5a7",
   "metadata": {},
   "outputs": [
    {
     "data": {
      "text/plain": [
       "Index(['Airline', 'Date_of_Journey', 'Source', 'Destination', 'Route',\n",
       "       'Dep_Time', 'Arrival_Time', 'Duration', 'Total_Stops',\n",
       "       'Additional_Info', 'Price'],\n",
       "      dtype='object')"
      ]
     },
     "execution_count": 5,
     "metadata": {},
     "output_type": "execute_result"
    }
   ],
   "source": [
    "\n",
    "Train_data.columns"
   ]
  },
  {
   "cell_type": "code",
   "execution_count": 6,
   "id": "0e58352a",
   "metadata": {},
   "outputs": [],
   "source": [
    "# removing duplicate from data\n",
    "Train_data.drop_duplicates(inplace=True)"
   ]
  },
  {
   "cell_type": "code",
   "execution_count": 7,
   "id": "ddd7041d",
   "metadata": {},
   "outputs": [
    {
     "data": {
      "text/plain": [
       "(10463, 11)"
      ]
     },
     "execution_count": 7,
     "metadata": {},
     "output_type": "execute_result"
    }
   ],
   "source": [
    "#after removing duplicate checking shape\n",
    "Train_data.shape"
   ]
  },
  {
   "cell_type": "code",
   "execution_count": 8,
   "id": "35dffedb",
   "metadata": {},
   "outputs": [],
   "source": [
    "#200 duplicate removed"
   ]
  },
  {
   "cell_type": "code",
   "execution_count": 9,
   "id": "0df9b4f8",
   "metadata": {},
   "outputs": [
    {
     "name": "stdout",
     "output_type": "stream",
     "text": [
      "<class 'pandas.core.frame.DataFrame'>\n",
      "Int64Index: 10463 entries, 0 to 10682\n",
      "Data columns (total 11 columns):\n",
      " #   Column           Non-Null Count  Dtype \n",
      "---  ------           --------------  ----- \n",
      " 0   Airline          10463 non-null  object\n",
      " 1   Date_of_Journey  10463 non-null  object\n",
      " 2   Source           10463 non-null  object\n",
      " 3   Destination      10463 non-null  object\n",
      " 4   Route            10462 non-null  object\n",
      " 5   Dep_Time         10463 non-null  object\n",
      " 6   Arrival_Time     10463 non-null  object\n",
      " 7   Duration         10463 non-null  object\n",
      " 8   Total_Stops      10462 non-null  object\n",
      " 9   Additional_Info  10463 non-null  object\n",
      " 10  Price            10463 non-null  int64 \n",
      "dtypes: int64(1), object(10)\n",
      "memory usage: 980.9+ KB\n"
     ]
    }
   ],
   "source": [
    "Train_data.info()"
   ]
  },
  {
   "cell_type": "code",
   "execution_count": 10,
   "id": "08b01355",
   "metadata": {},
   "outputs": [],
   "source": [
    "# Identifing the type of Problem- Output: Price is contionus data so we use regression models"
   ]
  },
  {
   "cell_type": "code",
   "execution_count": 11,
   "id": "479c9464",
   "metadata": {},
   "outputs": [],
   "source": [
    "# there is no null value in data\n"
   ]
  },
  {
   "cell_type": "code",
   "execution_count": 12,
   "id": "03c821fb",
   "metadata": {},
   "outputs": [
    {
     "data": {
      "text/plain": [
       "Airline            0\n",
       "Date_of_Journey    0\n",
       "Source             0\n",
       "Destination        0\n",
       "Route              1\n",
       "Dep_Time           0\n",
       "Arrival_Time       0\n",
       "Duration           0\n",
       "Total_Stops        1\n",
       "Additional_Info    0\n",
       "Price              0\n",
       "dtype: int64"
      ]
     },
     "execution_count": 12,
     "metadata": {},
     "output_type": "execute_result"
    }
   ],
   "source": [
    "# checking missing value in data\n",
    "Train_data.isna().sum()"
   ]
  },
  {
   "cell_type": "code",
   "execution_count": 13,
   "id": "1182776a",
   "metadata": {},
   "outputs": [],
   "source": [
    "#there is missing value in 2 attribute - Route ,Total_stops"
   ]
  },
  {
   "cell_type": "code",
   "execution_count": 14,
   "id": "cf7aee26",
   "metadata": {},
   "outputs": [
    {
     "data": {
      "text/plain": [
       "array(['BLR → DEL', 'CCU → IXR → BBI → BLR', 'DEL → LKO → BOM → COK',\n",
       "       'CCU → NAG → BLR', 'BLR → NAG → DEL', 'CCU → BLR',\n",
       "       'BLR → BOM → DEL', 'DEL → BOM → COK', 'DEL → BLR → COK',\n",
       "       'MAA → CCU', 'CCU → BOM → BLR', 'DEL → AMD → BOM → COK',\n",
       "       'DEL → PNQ → COK', 'DEL → CCU → BOM → COK', 'BLR → COK → DEL',\n",
       "       'DEL → IDR → BOM → COK', 'DEL → LKO → COK',\n",
       "       'CCU → GAU → DEL → BLR', 'DEL → NAG → BOM → COK',\n",
       "       'CCU → MAA → BLR', 'DEL → HYD → COK', 'CCU → HYD → BLR',\n",
       "       'DEL → COK', 'CCU → DEL → BLR', 'BLR → BOM → AMD → DEL',\n",
       "       'BOM → DEL → HYD', 'DEL → MAA → COK', 'BOM → HYD',\n",
       "       'DEL → BHO → BOM → COK', 'DEL → JAI → BOM → COK',\n",
       "       'DEL → ATQ → BOM → COK', 'DEL → JDH → BOM → COK',\n",
       "       'CCU → BBI → BOM → BLR', 'BLR → MAA → DEL',\n",
       "       'DEL → GOI → BOM → COK', 'DEL → BDQ → BOM → COK',\n",
       "       'CCU → JAI → BOM → BLR', 'CCU → BBI → BLR', 'BLR → HYD → DEL',\n",
       "       'DEL → TRV → COK', 'CCU → IXR → DEL → BLR',\n",
       "       'DEL → IXU → BOM → COK', 'CCU → IXB → BLR',\n",
       "       'BLR → BOM → JDH → DEL', 'DEL → UDR → BOM → COK',\n",
       "       'DEL → HYD → MAA → COK', 'CCU → BOM → COK → BLR',\n",
       "       'BLR → CCU → DEL', 'CCU → BOM → GOI → BLR',\n",
       "       'DEL → RPR → NAG → BOM → COK', 'DEL → HYD → BOM → COK',\n",
       "       'CCU → DEL → AMD → BLR', 'CCU → PNQ → BLR',\n",
       "       'BLR → CCU → GAU → DEL', 'CCU → DEL → COK → BLR',\n",
       "       'BLR → PNQ → DEL', 'BOM → JDH → DEL → HYD',\n",
       "       'BLR → BOM → BHO → DEL', 'DEL → AMD → COK', 'BLR → LKO → DEL',\n",
       "       'CCU → GAU → BLR', 'BOM → GOI → HYD', 'CCU → BOM → AMD → BLR',\n",
       "       'CCU → BBI → IXR → DEL → BLR', 'DEL → DED → BOM → COK',\n",
       "       'DEL → MAA → BOM → COK', 'BLR → AMD → DEL', 'BLR → VGA → DEL',\n",
       "       'CCU → JAI → DEL → BLR', 'CCU → AMD → BLR',\n",
       "       'CCU → VNS → DEL → BLR', 'BLR → BOM → IDR → DEL',\n",
       "       'BLR → BBI → DEL', 'BLR → GOI → DEL', 'BOM → AMD → ISK → HYD',\n",
       "       'BOM → DED → DEL → HYD', 'DEL → IXC → BOM → COK',\n",
       "       'CCU → PAT → BLR', 'BLR → CCU → BBI → DEL',\n",
       "       'CCU → BBI → HYD → BLR', 'BLR → BOM → NAG → DEL',\n",
       "       'BLR → CCU → BBI → HYD → DEL', 'BLR → GAU → DEL',\n",
       "       'BOM → BHO → DEL → HYD', 'BOM → JLR → HYD',\n",
       "       'BLR → HYD → VGA → DEL', 'CCU → KNU → BLR',\n",
       "       'CCU → BOM → PNQ → BLR', 'DEL → BBI → COK',\n",
       "       'BLR → VGA → HYD → DEL', 'BOM → JDH → JAI → DEL → HYD',\n",
       "       'DEL → GWL → IDR → BOM → COK', 'CCU → RPR → HYD → BLR',\n",
       "       'CCU → VTZ → BLR', 'CCU → DEL → VGA → BLR',\n",
       "       'BLR → BOM → IDR → GWL → DEL', 'CCU → DEL → COK → TRV → BLR',\n",
       "       'BOM → COK → MAA → HYD', 'BOM → NDC → HYD', 'BLR → BDQ → DEL',\n",
       "       'CCU → BOM → TRV → BLR', 'CCU → BOM → HBX → BLR',\n",
       "       'BOM → BDQ → DEL → HYD', 'BOM → CCU → HYD',\n",
       "       'BLR → TRV → COK → DEL', 'BLR → IDR → DEL',\n",
       "       'CCU → IXZ → MAA → BLR', 'CCU → GAU → IMF → DEL → BLR',\n",
       "       'BOM → GOI → PNQ → HYD', 'BOM → BLR → CCU → BBI → HYD',\n",
       "       'BOM → MAA → HYD', 'BLR → BOM → UDR → DEL',\n",
       "       'BOM → UDR → DEL → HYD', 'BLR → VGA → VTZ → DEL',\n",
       "       'BLR → HBX → BOM → BHO → DEL', 'CCU → IXA → BLR',\n",
       "       'BOM → RPR → VTZ → HYD', 'BLR → HBX → BOM → AMD → DEL',\n",
       "       'BOM → IDR → DEL → HYD', 'BOM → BLR → HYD', 'BLR → STV → DEL',\n",
       "       'CCU → IXB → DEL → BLR', 'BOM → JAI → DEL → HYD',\n",
       "       'BOM → VNS → DEL → HYD', 'BLR → HBX → BOM → NAG → DEL', nan,\n",
       "       'BLR → BOM → IXC → DEL', 'BLR → CCU → BBI → HYD → VGA → DEL',\n",
       "       'BOM → BBI → HYD'], dtype=object)"
      ]
     },
     "execution_count": 14,
     "metadata": {},
     "output_type": "execute_result"
    }
   ],
   "source": [
    "Train_data['Route'].unique()"
   ]
  },
  {
   "cell_type": "code",
   "execution_count": 15,
   "id": "2963e4bb",
   "metadata": {},
   "outputs": [
    {
     "data": {
      "text/plain": [
       "array(['non-stop', '2 stops', '1 stop', '3 stops', nan, '4 stops'],\n",
       "      dtype=object)"
      ]
     },
     "execution_count": 15,
     "metadata": {},
     "output_type": "execute_result"
    }
   ],
   "source": [
    "Train_data['Total_Stops'].unique()"
   ]
  },
  {
   "cell_type": "code",
   "execution_count": 16,
   "id": "6fb97267",
   "metadata": {},
   "outputs": [],
   "source": [
    "#droping  nan value from data\n",
    "Train_data.dropna(inplace=True)"
   ]
  },
  {
   "cell_type": "code",
   "execution_count": 17,
   "id": "d4d0b3cb",
   "metadata": {},
   "outputs": [
    {
     "data": {
      "text/plain": [
       "Airline            0\n",
       "Date_of_Journey    0\n",
       "Source             0\n",
       "Destination        0\n",
       "Route              0\n",
       "Dep_Time           0\n",
       "Arrival_Time       0\n",
       "Duration           0\n",
       "Total_Stops        0\n",
       "Additional_Info    0\n",
       "Price              0\n",
       "dtype: int64"
      ]
     },
     "execution_count": 17,
     "metadata": {},
     "output_type": "execute_result"
    }
   ],
   "source": [
    "#checking missing value again\n",
    "Train_data.isna().sum()"
   ]
  },
  {
   "cell_type": "code",
   "execution_count": 18,
   "id": "ed1156a4",
   "metadata": {},
   "outputs": [
    {
     "data": {
      "image/png": "[encoded data removed]",
      "text/plain": [
       "<Figure size 432x288 with 2 Axes>"
      ]
     },
     "metadata": {
      "needs_background": "light"
     },
     "output_type": "display_data"
    }
   ],
   "source": [
    "#looking missing value \n",
    "sns.heatmap(Train_data.isna())\n",
    "plt.show()"
   ]
  },
  {
   "cell_type": "code",
   "execution_count": 19,
   "id": "cf5631eb",
   "metadata": {},
   "outputs": [],
   "source": [
    "#now there is no missing value"
   ]
  },
  {
   "cell_type": "code",
   "execution_count": 20,
   "id": "9708d44e",
   "metadata": {},
   "outputs": [
    {
     "name": "stderr",
     "output_type": "stream",
     "text": [
      "E:\\anacoda3\\lib\\site-packages\\seaborn\\distributions.py:2619: FutureWarning: `distplot` is a deprecated function and will be removed in a future version. Please adapt your code to use either `displot` (a figure-level function with similar flexibility) or `histplot` (an axes-level function for histograms).\n",
      "  warnings.warn(msg, FutureWarning)\n"
     ]
    },
    {
     "data": {
      "image/png": "[encoded data removed]",
      "text/plain": [
       "<Figure size 432x288 with 1 Axes>"
      ]
     },
     "metadata": {
      "needs_background": "light"
     },
     "output_type": "display_data"
    }
   ],
   "source": [
    "sns.distplot(Train_data['Price'])\n",
    "plt.show()"
   ]
  },
  {
   "cell_type": "code",
   "execution_count": 21,
   "id": "077ec25c",
   "metadata": {},
   "outputs": [
    {
     "name": "stderr",
     "output_type": "stream",
     "text": [
      "E:\\anacoda3\\lib\\site-packages\\seaborn\\_decorators.py:36: FutureWarning: Pass the following variable as a keyword arg: x. From version 0.12, the only valid positional argument will be `data`, and passing other arguments without an explicit keyword will result in an error or misinterpretation.\n",
      "  warnings.warn(\n"
     ]
    },
    {
     "data": {
      "text/plain": [
       "<AxesSubplot:xlabel='Airline', ylabel='count'>"
      ]
     },
     "execution_count": 21,
     "metadata": {},
     "output_type": "execute_result"
    },
    {
     "data": {
      "image/png": "[encoded data removed]",
      "text/plain": [
       "<Figure size 1440x720 with 1 Axes>"
      ]
     },
     "metadata": {
      "needs_background": "light"
     },
     "output_type": "display_data"
    }
   ],
   "source": [
    "plt.figure(figsize=(20,10))\n",
    "sns.countplot(Train_data['Airline'])"
   ]
  },
  {
   "cell_type": "code",
   "execution_count": 22,
   "id": "26e40c5d",
   "metadata": {},
   "outputs": [],
   "source": [
    "import warnings\n",
    "warnings.filterwarnings('ignore')"
   ]
  },
  {
   "cell_type": "code",
   "execution_count": 23,
   "id": "45212068",
   "metadata": {},
   "outputs": [
    {
     "data": {
      "image/png": "[encoded data removed]",
      "text/plain": [
       "<Figure size 3600x1080 with 1 Axes>"
      ]
     },
     "metadata": {
      "needs_background": "light"
     },
     "output_type": "display_data"
    }
   ],
   "source": [
    "plt.figure(figsize = (50,15))\n",
    "sns.boxplot(Train_data['Date_of_Journey'], Train_data['Price'])\n",
    "plt.show()"
   ]
  },
  {
   "cell_type": "code",
   "execution_count": 24,
   "id": "99593b9b",
   "metadata": {},
   "outputs": [
    {
     "data": {
      "text/plain": [
       "Delhi       4345\n",
       "Kolkata     2860\n",
       "Banglore    2179\n",
       "Mumbai       697\n",
       "Chennai      381\n",
       "Name: Source, dtype: int64"
      ]
     },
     "execution_count": 24,
     "metadata": {},
     "output_type": "execute_result"
    }
   ],
   "source": [
    "# counting value of source\n",
    "Train_data['Source'].value_counts()"
   ]
  },
  {
   "cell_type": "code",
   "execution_count": 25,
   "id": "92aee30c",
   "metadata": {},
   "outputs": [
    {
     "data": {
      "image/png": "[encoded data removed]",
      "text/plain": [
       "<Figure size 432x288 with 1 Axes>"
      ]
     },
     "metadata": {
      "needs_background": "light"
     },
     "output_type": "display_data"
    }
   ],
   "source": [
    "sns.countplot(Train_data['Source'])\n",
    "plt.show()"
   ]
  },
  {
   "cell_type": "code",
   "execution_count": 26,
   "id": "876b25e4",
   "metadata": {},
   "outputs": [],
   "source": [
    "# we see that Maximum number of flight Source was Delhi, & than Kolkata  Destination."
   ]
  },
  {
   "cell_type": "code",
   "execution_count": 27,
   "id": "ff7010b0",
   "metadata": {},
   "outputs": [
    {
     "data": {
      "text/plain": [
       "Cochin       4345\n",
       "Banglore     2860\n",
       "Delhi        1265\n",
       "New Delhi     914\n",
       "Hyderabad     697\n",
       "Kolkata       381\n",
       "Name: Destination, dtype: int64"
      ]
     },
     "execution_count": 27,
     "metadata": {},
     "output_type": "execute_result"
    }
   ],
   "source": [
    "Train_data['Destination'].value_counts()"
   ]
  },
  {
   "cell_type": "code",
   "execution_count": 28,
   "id": "b8193983",
   "metadata": {},
   "outputs": [
    {
     "data": {
      "image/png": "[encoded data removed]",
      "text/plain": [
       "<Figure size 432x288 with 1 Axes>"
      ]
     },
     "metadata": {
      "needs_background": "light"
     },
     "output_type": "display_data"
    }
   ],
   "source": [
    "sns.countplot(Train_data['Destination'])\n",
    "plt.show()"
   ]
  },
  {
   "cell_type": "code",
   "execution_count": 29,
   "id": "b8960c83",
   "metadata": {},
   "outputs": [],
   "source": [
    "# Cochin  and banglore has highest destination."
   ]
  },
  {
   "cell_type": "code",
   "execution_count": 30,
   "id": "465918bf",
   "metadata": {},
   "outputs": [
    {
     "data": {
      "text/plain": [
       "1 stop      5625\n",
       "non-stop    3475\n",
       "2 stops     1318\n",
       "3 stops       43\n",
       "4 stops        1\n",
       "Name: Total_Stops, dtype: int64"
      ]
     },
     "execution_count": 30,
     "metadata": {},
     "output_type": "execute_result"
    }
   ],
   "source": [
    "Train_data['Total_Stops'].value_counts()"
   ]
  },
  {
   "cell_type": "code",
   "execution_count": 31,
   "id": "52660ee4",
   "metadata": {},
   "outputs": [
    {
     "data": {
      "image/png": "[encoded data removed]",
      "text/plain": [
       "<Figure size 432x288 with 1 Axes>"
      ]
     },
     "metadata": {
      "needs_background": "light"
     },
     "output_type": "display_data"
    }
   ],
   "source": [
    "sns.countplot(Train_data['Total_Stops'])\n",
    "plt.show()"
   ]
  },
  {
   "cell_type": "code",
   "execution_count": 32,
   "id": "48708d46",
   "metadata": {},
   "outputs": [],
   "source": [
    "# Most of flight has 1 stop is 5625 and non stop flight has 3475"
   ]
  },
  {
   "cell_type": "code",
   "execution_count": 33,
   "id": "e5b2a73c",
   "metadata": {},
   "outputs": [
    {
     "data": {
      "text/plain": [
       "<AxesSubplot:xlabel='Duration', ylabel='count'>"
      ]
     },
     "execution_count": 33,
     "metadata": {},
     "output_type": "execute_result"
    },
    {
     "data": {
      "image/png": "[encoded data removed]",
      "text/plain": [
       "<Figure size 432x288 with 1 Axes>"
      ]
     },
     "metadata": {
      "needs_background": "light"
     },
     "output_type": "display_data"
    }
   ],
   "source": [
    "sns.countplot(Train_data['Duration'])"
   ]
  },
  {
   "cell_type": "code",
   "execution_count": 34,
   "id": "463eae4c",
   "metadata": {},
   "outputs": [
    {
     "data": {
      "text/plain": [
       "<AxesSubplot:xlabel='Additional_Info', ylabel='count'>"
      ]
     },
     "execution_count": 34,
     "metadata": {},
     "output_type": "execute_result"
    },
    {
     "data": {
      "image/png": "[encoded data removed]",
      "text/plain": [
       "<Figure size 1800x360 with 1 Axes>"
      ]
     },
     "metadata": {
      "needs_background": "light"
     },
     "output_type": "display_data"
    }
   ],
   "source": [
    "plt.figure(figsize=(25,5))\n",
    "sns.countplot(Train_data['Additional_Info'])"
   ]
  },
  {
   "cell_type": "code",
   "execution_count": 35,
   "id": "e46c3963",
   "metadata": {},
   "outputs": [
    {
     "data": {
      "image/png": "[encoded data removed]",
      "text/plain": [
       "<Figure size 2160x360 with 1 Axes>"
      ]
     },
     "metadata": {
      "needs_background": "light"
     },
     "output_type": "display_data"
    }
   ],
   "source": [
    "plt.figure(figsize=(30,5))\n",
    "sns.barplot(Train_data['Airline'], Train_data['Price'])\n",
    "plt.xlabel('Airline', fontsize=25)\n",
    "plt.ylabel('Price', fontsize=25)\n",
    "plt.title('Airline vs Price', fontsize=20)\n",
    "plt.show()"
   ]
  },
  {
   "cell_type": "code",
   "execution_count": 36,
   "id": "e858718a",
   "metadata": {},
   "outputs": [],
   "source": [
    "# JetAirway flight are very expensive compare to other"
   ]
  },
  {
   "cell_type": "code",
   "execution_count": 37,
   "id": "f191ab0e",
   "metadata": {},
   "outputs": [
    {
     "data": {
      "image/png": "[encoded data removed]",
      "text/plain": [
       "<Figure size 1080x360 with 1 Axes>"
      ]
     },
     "metadata": {
      "needs_background": "light"
     },
     "output_type": "display_data"
    }
   ],
   "source": [
    "plt.figure(figsize=(15,5))\n",
    "sns.barplot(Train_data['Source'], Train_data['Price'])\n",
    "plt.xlabel('Source', fontsize=25)\n",
    "plt.ylabel('Price', fontsize=25)\n",
    "plt.title('Source vs Price', fontsize=20)\n",
    "plt.show()"
   ]
  },
  {
   "cell_type": "code",
   "execution_count": 38,
   "id": "acb035df",
   "metadata": {},
   "outputs": [],
   "source": [
    "# Highest price is delhi, Kolkata  and then banglore "
   ]
  },
  {
   "cell_type": "code",
   "execution_count": 39,
   "id": "ae80726e",
   "metadata": {},
   "outputs": [
    {
     "data": {
      "image/png": "[encoded data removed]",
      "text/plain": [
       "<Figure size 1080x360 with 1 Axes>"
      ]
     },
     "metadata": {
      "needs_background": "light"
     },
     "output_type": "display_data"
    }
   ],
   "source": [
    "plt.figure(figsize=(15,5))\n",
    "sns.stripplot(Train_data['Destination'], Train_data['Price'])\n",
    "plt.xlabel('Destination', fontsize=25)\n",
    "plt.ylabel('Price', fontsize=25)\n",
    "plt.title('Destination vs Price', fontsize=20)\n",
    "plt.show()"
   ]
  },
  {
   "cell_type": "code",
   "execution_count": 40,
   "id": "a11b30d2",
   "metadata": {},
   "outputs": [],
   "source": [
    "# Destination price of Kolkata and delhi and  Hyderbad is low comapare tp other Destination"
   ]
  },
  {
   "cell_type": "code",
   "execution_count": 41,
   "id": "aa66e114",
   "metadata": {},
   "outputs": [
    {
     "data": {
      "image/png": "[encoded data removed]",
      "text/plain": [
       "<Figure size 1080x360 with 1 Axes>"
      ]
     },
     "metadata": {
      "needs_background": "light"
     },
     "output_type": "display_data"
    }
   ],
   "source": [
    "plt.figure(figsize=(15,5))\n",
    "plt.scatter(Train_data['Total_Stops'], Train_data['Price'])\n",
    "plt.xlabel('Total_Stops', fontsize=25)\n",
    "plt.ylabel('Price', fontsize=25)\n",
    "plt.title('Total_Stops vs Price', fontsize=20)\n",
    "plt.show()"
   ]
  },
  {
   "cell_type": "code",
   "execution_count": 42,
   "id": "690305fa",
   "metadata": {},
   "outputs": [],
   "source": [
    "# Flight which have one stop & two stops has highest price,\n",
    "# Flights which have four stops have the lowest prices,\n",
    "# Flights which have zero and three stops have low prices."
   ]
  },
  {
   "cell_type": "code",
   "execution_count": 43,
   "id": "1f332e13",
   "metadata": {},
   "outputs": [],
   "source": [
    "# split Date_of_Journey of attribute in date,month,year\n",
    "Train_data['Date'] = Train_data['Date_of_Journey'].str.split('/').str[0]\n",
    "Train_data['Month'] = Train_data['Date_of_Journey'].str.split('/').str[1]\n",
    "Train_data['Year'] = Train_data['Date_of_Journey'].str.split('/').str[2]"
   ]
  },
  {
   "cell_type": "code",
   "execution_count": 44,
   "id": "bdf1c48b",
   "metadata": {},
   "outputs": [
    {
     "data": {
      "text/html": [
       "<div>\n",
       "<style scoped>\n",
       "    .dataframe tbody tr th:only-of-type {\n",
       "        vertical-align: middle;\n",
       "    }\n",
       "\n",
       "    .dataframe tbody tr th {\n",
       "        vertical-align: top;\n",
       "    }\n",
       "\n",
       "    .dataframe thead th {\n",
       "        text-align: right;\n",
       "    }\n",
       "</style>\n",
       "<table border=\"1\" class=\"dataframe\">\n",
       "  <thead>\n",
       "    <tr style=\"text-align: right;\">\n",
       "      <th></th>\n",
       "      <th>Airline</th>\n",
       "      <th>Date_of_Journey</th>\n",
       "      <th>Source</th>\n",
       "      <th>Destination</th>\n",
       "      <th>Route</th>\n",
       "      <th>Dep_Time</th>\n",
       "      <th>Arrival_Time</th>\n",
       "      <th>Duration</th>\n",
       "      <th>Total_Stops</th>\n",
       "      <th>Additional_Info</th>\n",
       "      <th>Price</th>\n",
       "      <th>Date</th>\n",
       "      <th>Month</th>\n",
       "      <th>Year</th>\n",
       "    </tr>\n",
       "  </thead>\n",
       "  <tbody>\n",
       "    <tr>\n",
       "      <th>0</th>\n",
       "      <td>IndiGo</td>\n",
       "      <td>24/03/2019</td>\n",
       "      <td>Banglore</td>\n",
       "      <td>New Delhi</td>\n",
       "      <td>BLR → DEL</td>\n",
       "      <td>22:20</td>\n",
       "      <td>01:10 22 Mar</td>\n",
       "      <td>2h 50m</td>\n",
       "      <td>non-stop</td>\n",
       "      <td>No info</td>\n",
       "      <td>3897</td>\n",
       "      <td>24</td>\n",
       "      <td>03</td>\n",
       "      <td>2019</td>\n",
       "    </tr>\n",
       "    <tr>\n",
       "      <th>1</th>\n",
       "      <td>Air India</td>\n",
       "      <td>1/05/2019</td>\n",
       "      <td>Kolkata</td>\n",
       "      <td>Banglore</td>\n",
       "      <td>CCU → IXR → BBI → BLR</td>\n",
       "      <td>05:50</td>\n",
       "      <td>13:15</td>\n",
       "      <td>7h 25m</td>\n",
       "      <td>2 stops</td>\n",
       "      <td>No info</td>\n",
       "      <td>7662</td>\n",
       "      <td>1</td>\n",
       "      <td>05</td>\n",
       "      <td>2019</td>\n",
       "    </tr>\n",
       "    <tr>\n",
       "      <th>2</th>\n",
       "      <td>Jet Airways</td>\n",
       "      <td>9/06/2019</td>\n",
       "      <td>Delhi</td>\n",
       "      <td>Cochin</td>\n",
       "      <td>DEL → LKO → BOM → COK</td>\n",
       "      <td>09:25</td>\n",
       "      <td>04:25 10 Jun</td>\n",
       "      <td>19h</td>\n",
       "      <td>2 stops</td>\n",
       "      <td>No info</td>\n",
       "      <td>13882</td>\n",
       "      <td>9</td>\n",
       "      <td>06</td>\n",
       "      <td>2019</td>\n",
       "    </tr>\n",
       "  </tbody>\n",
       "</table>\n",
       "</div>"
      ],
      "text/plain": [
       "       Airline Date_of_Journey    Source Destination                  Route  \\\n",
       "0       IndiGo      24/03/2019  Banglore   New Delhi              BLR → DEL   \n",
       "1    Air India       1/05/2019   Kolkata    Banglore  CCU → IXR → BBI → BLR   \n",
       "2  Jet Airways       9/06/2019     Delhi      Cochin  DEL → LKO → BOM → COK   \n",
       "\n",
       "  Dep_Time  Arrival_Time Duration Total_Stops Additional_Info  Price Date  \\\n",
       "0    22:20  01:10 22 Mar   2h 50m    non-stop         No info   3897   24   \n",
       "1    05:50         13:15   7h 25m     2 stops         No info   7662    1   \n",
       "2    09:25  04:25 10 Jun      19h     2 stops         No info  13882    9   \n",
       "\n",
       "  Month  Year  \n",
       "0    03  2019  \n",
       "1    05  2019  \n",
       "2    06  2019  "
      ]
     },
     "execution_count": 44,
     "metadata": {},
     "output_type": "execute_result"
    }
   ],
   "source": [
    "Train_data.head(3)"
   ]
  },
  {
   "cell_type": "code",
   "execution_count": 45,
   "id": "a31eeeca",
   "metadata": {},
   "outputs": [],
   "source": [
    "#droping date_of_journey\n",
    "Train_data = Train_data.drop(['Date_of_Journey'], axis=1)"
   ]
  },
  {
   "cell_type": "code",
   "execution_count": 46,
   "id": "1c3d27ea",
   "metadata": {},
   "outputs": [
    {
     "data": {
      "image/png": "[encoded data removed]",
      "text/plain": [
       "<Figure size 432x288 with 1 Axes>"
      ]
     },
     "metadata": {
      "needs_background": "light"
     },
     "output_type": "display_data"
    }
   ],
   "source": [
    "plt.scatter(x=Train_data['Date'],y=Train_data['Price'])\n",
    "plt.xlabel('Date', fontsize= 15)\n",
    "plt.ylabel('Price', fontsize= 15)\n",
    "plt.show()"
   ]
  },
  {
   "cell_type": "code",
   "execution_count": 47,
   "id": "53790827",
   "metadata": {},
   "outputs": [],
   "source": [
    "# Flights have the highest prices on the first day of months  and lowest at 21 day of month"
   ]
  },
  {
   "cell_type": "code",
   "execution_count": 48,
   "id": "36d0058a",
   "metadata": {},
   "outputs": [
    {
     "data": {
      "image/png": "[encoded data removed]",
      "text/plain": [
       "<Figure size 432x288 with 1 Axes>"
      ]
     },
     "metadata": {
      "needs_background": "light"
     },
     "output_type": "display_data"
    }
   ],
   "source": [
    "plt.scatter(x=Train_data['Month'], y=Train_data['Price'])\n",
    "plt.xlabel('Month', fontsize= 15)\n",
    "plt.ylabel('Price', fontsize= 15)\n",
    "plt.show()"
   ]
  },
  {
   "cell_type": "code",
   "execution_count": 49,
   "id": "d2d04bbc",
   "metadata": {},
   "outputs": [],
   "source": [
    "# Flights have the highest prices in the March, and may"
   ]
  },
  {
   "cell_type": "code",
   "execution_count": 50,
   "id": "18ff646c",
   "metadata": {},
   "outputs": [
    {
     "data": {
      "image/png": "[encoded data removed]",
      "text/plain": [
       "<Figure size 432x288 with 1 Axes>"
      ]
     },
     "metadata": {
      "needs_background": "light"
     },
     "output_type": "display_data"
    }
   ],
   "source": [
    "plt.scatter(x=Train_data['Year'], y=Train_data['Price'])\n",
    "plt.xlabel('Year', fontsize= 15)\n",
    "plt.ylabel('Price', fontsize= 15)\n",
    "plt.show()"
   ]
  },
  {
   "cell_type": "code",
   "execution_count": 51,
   "id": "f94f0557",
   "metadata": {},
   "outputs": [],
   "source": [
    "# we have 2019 year data only"
   ]
  },
  {
   "cell_type": "code",
   "execution_count": 52,
   "id": "6cd02b5b",
   "metadata": {},
   "outputs": [],
   "source": [
    "\n",
    "Train_data['Route1']=Train_data['Route'].str.split('→').str[0]\n",
    "Train_data['Route2']=Train_data['Route'].str.split('→').str[1]\n",
    "Train_data['Route3']=Train_data['Route'].str.split('→').str[2]\n",
    "Train_data['Route4']=Train_data['Route'].str.split('→').str[3]\n",
    "Train_data['Route5']=Train_data['Route'].str.split('→').str[4]"
   ]
  },
  {
   "cell_type": "code",
   "execution_count": 53,
   "id": "71d3fb61",
   "metadata": {},
   "outputs": [
    {
     "data": {
      "text/html": [
       "<div>\n",
       "<style scoped>\n",
       "    .dataframe tbody tr th:only-of-type {\n",
       "        vertical-align: middle;\n",
       "    }\n",
       "\n",
       "    .dataframe tbody tr th {\n",
       "        vertical-align: top;\n",
       "    }\n",
       "\n",
       "    .dataframe thead th {\n",
       "        text-align: right;\n",
       "    }\n",
       "</style>\n",
       "<table border=\"1\" class=\"dataframe\">\n",
       "  <thead>\n",
       "    <tr style=\"text-align: right;\">\n",
       "      <th></th>\n",
       "      <th>Airline</th>\n",
       "      <th>Source</th>\n",
       "      <th>Destination</th>\n",
       "      <th>Route</th>\n",
       "      <th>Dep_Time</th>\n",
       "      <th>Arrival_Time</th>\n",
       "      <th>Duration</th>\n",
       "      <th>Total_Stops</th>\n",
       "      <th>Additional_Info</th>\n",
       "      <th>Price</th>\n",
       "      <th>Date</th>\n",
       "      <th>Month</th>\n",
       "      <th>Year</th>\n",
       "      <th>Route1</th>\n",
       "      <th>Route2</th>\n",
       "      <th>Route3</th>\n",
       "      <th>Route4</th>\n",
       "      <th>Route5</th>\n",
       "    </tr>\n",
       "  </thead>\n",
       "  <tbody>\n",
       "    <tr>\n",
       "      <th>0</th>\n",
       "      <td>IndiGo</td>\n",
       "      <td>Banglore</td>\n",
       "      <td>New Delhi</td>\n",
       "      <td>BLR → DEL</td>\n",
       "      <td>22:20</td>\n",
       "      <td>01:10 22 Mar</td>\n",
       "      <td>2h 50m</td>\n",
       "      <td>non-stop</td>\n",
       "      <td>No info</td>\n",
       "      <td>3897</td>\n",
       "      <td>24</td>\n",
       "      <td>03</td>\n",
       "      <td>2019</td>\n",
       "      <td>BLR</td>\n",
       "      <td>DEL</td>\n",
       "      <td>NaN</td>\n",
       "      <td>NaN</td>\n",
       "      <td>NaN</td>\n",
       "    </tr>\n",
       "    <tr>\n",
       "      <th>1</th>\n",
       "      <td>Air India</td>\n",
       "      <td>Kolkata</td>\n",
       "      <td>Banglore</td>\n",
       "      <td>CCU → IXR → BBI → BLR</td>\n",
       "      <td>05:50</td>\n",
       "      <td>13:15</td>\n",
       "      <td>7h 25m</td>\n",
       "      <td>2 stops</td>\n",
       "      <td>No info</td>\n",
       "      <td>7662</td>\n",
       "      <td>1</td>\n",
       "      <td>05</td>\n",
       "      <td>2019</td>\n",
       "      <td>CCU</td>\n",
       "      <td>IXR</td>\n",
       "      <td>BBI</td>\n",
       "      <td>BLR</td>\n",
       "      <td>NaN</td>\n",
       "    </tr>\n",
       "    <tr>\n",
       "      <th>2</th>\n",
       "      <td>Jet Airways</td>\n",
       "      <td>Delhi</td>\n",
       "      <td>Cochin</td>\n",
       "      <td>DEL → LKO → BOM → COK</td>\n",
       "      <td>09:25</td>\n",
       "      <td>04:25 10 Jun</td>\n",
       "      <td>19h</td>\n",
       "      <td>2 stops</td>\n",
       "      <td>No info</td>\n",
       "      <td>13882</td>\n",
       "      <td>9</td>\n",
       "      <td>06</td>\n",
       "      <td>2019</td>\n",
       "      <td>DEL</td>\n",
       "      <td>LKO</td>\n",
       "      <td>BOM</td>\n",
       "      <td>COK</td>\n",
       "      <td>NaN</td>\n",
       "    </tr>\n",
       "    <tr>\n",
       "      <th>3</th>\n",
       "      <td>IndiGo</td>\n",
       "      <td>Kolkata</td>\n",
       "      <td>Banglore</td>\n",
       "      <td>CCU → NAG → BLR</td>\n",
       "      <td>18:05</td>\n",
       "      <td>23:30</td>\n",
       "      <td>5h 25m</td>\n",
       "      <td>1 stop</td>\n",
       "      <td>No info</td>\n",
       "      <td>6218</td>\n",
       "      <td>12</td>\n",
       "      <td>05</td>\n",
       "      <td>2019</td>\n",
       "      <td>CCU</td>\n",
       "      <td>NAG</td>\n",
       "      <td>BLR</td>\n",
       "      <td>NaN</td>\n",
       "      <td>NaN</td>\n",
       "    </tr>\n",
       "    <tr>\n",
       "      <th>4</th>\n",
       "      <td>IndiGo</td>\n",
       "      <td>Banglore</td>\n",
       "      <td>New Delhi</td>\n",
       "      <td>BLR → NAG → DEL</td>\n",
       "      <td>16:50</td>\n",
       "      <td>21:35</td>\n",
       "      <td>4h 45m</td>\n",
       "      <td>1 stop</td>\n",
       "      <td>No info</td>\n",
       "      <td>13302</td>\n",
       "      <td>01</td>\n",
       "      <td>03</td>\n",
       "      <td>2019</td>\n",
       "      <td>BLR</td>\n",
       "      <td>NAG</td>\n",
       "      <td>DEL</td>\n",
       "      <td>NaN</td>\n",
       "      <td>NaN</td>\n",
       "    </tr>\n",
       "  </tbody>\n",
       "</table>\n",
       "</div>"
      ],
      "text/plain": [
       "       Airline    Source Destination                  Route Dep_Time  \\\n",
       "0       IndiGo  Banglore   New Delhi              BLR → DEL    22:20   \n",
       "1    Air India   Kolkata    Banglore  CCU → IXR → BBI → BLR    05:50   \n",
       "2  Jet Airways     Delhi      Cochin  DEL → LKO → BOM → COK    09:25   \n",
       "3       IndiGo   Kolkata    Banglore        CCU → NAG → BLR    18:05   \n",
       "4       IndiGo  Banglore   New Delhi        BLR → NAG → DEL    16:50   \n",
       "\n",
       "   Arrival_Time Duration Total_Stops Additional_Info  Price Date Month  Year  \\\n",
       "0  01:10 22 Mar   2h 50m    non-stop         No info   3897   24    03  2019   \n",
       "1         13:15   7h 25m     2 stops         No info   7662    1    05  2019   \n",
       "2  04:25 10 Jun      19h     2 stops         No info  13882    9    06  2019   \n",
       "3         23:30   5h 25m      1 stop         No info   6218   12    05  2019   \n",
       "4         21:35   4h 45m      1 stop         No info  13302   01    03  2019   \n",
       "\n",
       "  Route1 Route2 Route3 Route4 Route5  \n",
       "0   BLR     DEL    NaN    NaN    NaN  \n",
       "1   CCU    IXR    BBI     BLR    NaN  \n",
       "2   DEL    LKO    BOM     COK    NaN  \n",
       "3   CCU    NAG     BLR    NaN    NaN  \n",
       "4   BLR    NAG     DEL    NaN    NaN  "
      ]
     },
     "execution_count": 53,
     "metadata": {},
     "output_type": "execute_result"
    }
   ],
   "source": [
    "Train_data.head(5)"
   ]
  },
  {
   "cell_type": "code",
   "execution_count": 54,
   "id": "20a80ca4",
   "metadata": {},
   "outputs": [
    {
     "data": {
      "text/plain": [
       "0"
      ]
     },
     "execution_count": 54,
     "metadata": {},
     "output_type": "execute_result"
    }
   ],
   "source": [
    "Train_data['Route1'].isna().sum()"
   ]
  },
  {
   "cell_type": "code",
   "execution_count": 55,
   "id": "c85a2258",
   "metadata": {},
   "outputs": [
    {
     "data": {
      "text/plain": [
       "0"
      ]
     },
     "execution_count": 55,
     "metadata": {},
     "output_type": "execute_result"
    }
   ],
   "source": [
    "Train_data['Route2'].isna().sum()"
   ]
  },
  {
   "cell_type": "code",
   "execution_count": 56,
   "id": "8ba490e3",
   "metadata": {},
   "outputs": [
    {
     "data": {
      "text/plain": [
       "3475"
      ]
     },
     "execution_count": 56,
     "metadata": {},
     "output_type": "execute_result"
    }
   ],
   "source": [
    "Train_data['Route3'].isna().sum()"
   ]
  },
  {
   "cell_type": "code",
   "execution_count": 57,
   "id": "05f56501",
   "metadata": {},
   "outputs": [],
   "source": [
    "'''as we see there is null value in Route3'''\n",
    "Train_data['Route3'].fillna(Train_data['Route3'].mode()[0],inplace=True)"
   ]
  },
  {
   "cell_type": "code",
   "execution_count": 58,
   "id": "ff745d1e",
   "metadata": {},
   "outputs": [
    {
     "data": {
      "text/html": [
       "<div>\n",
       "<style scoped>\n",
       "    .dataframe tbody tr th:only-of-type {\n",
       "        vertical-align: middle;\n",
       "    }\n",
       "\n",
       "    .dataframe tbody tr th {\n",
       "        vertical-align: top;\n",
       "    }\n",
       "\n",
       "    .dataframe thead th {\n",
       "        text-align: right;\n",
       "    }\n",
       "</style>\n",
       "<table border=\"1\" class=\"dataframe\">\n",
       "  <thead>\n",
       "    <tr style=\"text-align: right;\">\n",
       "      <th></th>\n",
       "      <th>Airline</th>\n",
       "      <th>Source</th>\n",
       "      <th>Destination</th>\n",
       "      <th>Route</th>\n",
       "      <th>Dep_Time</th>\n",
       "      <th>Arrival_Time</th>\n",
       "      <th>Duration</th>\n",
       "      <th>Total_Stops</th>\n",
       "      <th>Additional_Info</th>\n",
       "      <th>Price</th>\n",
       "      <th>Date</th>\n",
       "      <th>Month</th>\n",
       "      <th>Year</th>\n",
       "      <th>Route1</th>\n",
       "      <th>Route2</th>\n",
       "      <th>Route3</th>\n",
       "      <th>Route4</th>\n",
       "      <th>Route5</th>\n",
       "    </tr>\n",
       "  </thead>\n",
       "  <tbody>\n",
       "    <tr>\n",
       "      <th>0</th>\n",
       "      <td>IndiGo</td>\n",
       "      <td>Banglore</td>\n",
       "      <td>New Delhi</td>\n",
       "      <td>BLR → DEL</td>\n",
       "      <td>22:20</td>\n",
       "      <td>01:10 22 Mar</td>\n",
       "      <td>2h 50m</td>\n",
       "      <td>non-stop</td>\n",
       "      <td>No info</td>\n",
       "      <td>3897</td>\n",
       "      <td>24</td>\n",
       "      <td>03</td>\n",
       "      <td>2019</td>\n",
       "      <td>BLR</td>\n",
       "      <td>DEL</td>\n",
       "      <td>COK</td>\n",
       "      <td>NaN</td>\n",
       "      <td>NaN</td>\n",
       "    </tr>\n",
       "    <tr>\n",
       "      <th>1</th>\n",
       "      <td>Air India</td>\n",
       "      <td>Kolkata</td>\n",
       "      <td>Banglore</td>\n",
       "      <td>CCU → IXR → BBI → BLR</td>\n",
       "      <td>05:50</td>\n",
       "      <td>13:15</td>\n",
       "      <td>7h 25m</td>\n",
       "      <td>2 stops</td>\n",
       "      <td>No info</td>\n",
       "      <td>7662</td>\n",
       "      <td>1</td>\n",
       "      <td>05</td>\n",
       "      <td>2019</td>\n",
       "      <td>CCU</td>\n",
       "      <td>IXR</td>\n",
       "      <td>BBI</td>\n",
       "      <td>BLR</td>\n",
       "      <td>NaN</td>\n",
       "    </tr>\n",
       "    <tr>\n",
       "      <th>2</th>\n",
       "      <td>Jet Airways</td>\n",
       "      <td>Delhi</td>\n",
       "      <td>Cochin</td>\n",
       "      <td>DEL → LKO → BOM → COK</td>\n",
       "      <td>09:25</td>\n",
       "      <td>04:25 10 Jun</td>\n",
       "      <td>19h</td>\n",
       "      <td>2 stops</td>\n",
       "      <td>No info</td>\n",
       "      <td>13882</td>\n",
       "      <td>9</td>\n",
       "      <td>06</td>\n",
       "      <td>2019</td>\n",
       "      <td>DEL</td>\n",
       "      <td>LKO</td>\n",
       "      <td>BOM</td>\n",
       "      <td>COK</td>\n",
       "      <td>NaN</td>\n",
       "    </tr>\n",
       "    <tr>\n",
       "      <th>3</th>\n",
       "      <td>IndiGo</td>\n",
       "      <td>Kolkata</td>\n",
       "      <td>Banglore</td>\n",
       "      <td>CCU → NAG → BLR</td>\n",
       "      <td>18:05</td>\n",
       "      <td>23:30</td>\n",
       "      <td>5h 25m</td>\n",
       "      <td>1 stop</td>\n",
       "      <td>No info</td>\n",
       "      <td>6218</td>\n",
       "      <td>12</td>\n",
       "      <td>05</td>\n",
       "      <td>2019</td>\n",
       "      <td>CCU</td>\n",
       "      <td>NAG</td>\n",
       "      <td>BLR</td>\n",
       "      <td>NaN</td>\n",
       "      <td>NaN</td>\n",
       "    </tr>\n",
       "    <tr>\n",
       "      <th>4</th>\n",
       "      <td>IndiGo</td>\n",
       "      <td>Banglore</td>\n",
       "      <td>New Delhi</td>\n",
       "      <td>BLR → NAG → DEL</td>\n",
       "      <td>16:50</td>\n",
       "      <td>21:35</td>\n",
       "      <td>4h 45m</td>\n",
       "      <td>1 stop</td>\n",
       "      <td>No info</td>\n",
       "      <td>13302</td>\n",
       "      <td>01</td>\n",
       "      <td>03</td>\n",
       "      <td>2019</td>\n",
       "      <td>BLR</td>\n",
       "      <td>NAG</td>\n",
       "      <td>DEL</td>\n",
       "      <td>NaN</td>\n",
       "      <td>NaN</td>\n",
       "    </tr>\n",
       "  </tbody>\n",
       "</table>\n",
       "</div>"
      ],
      "text/plain": [
       "       Airline    Source Destination                  Route Dep_Time  \\\n",
       "0       IndiGo  Banglore   New Delhi              BLR → DEL    22:20   \n",
       "1    Air India   Kolkata    Banglore  CCU → IXR → BBI → BLR    05:50   \n",
       "2  Jet Airways     Delhi      Cochin  DEL → LKO → BOM → COK    09:25   \n",
       "3       IndiGo   Kolkata    Banglore        CCU → NAG → BLR    18:05   \n",
       "4       IndiGo  Banglore   New Delhi        BLR → NAG → DEL    16:50   \n",
       "\n",
       "   Arrival_Time Duration Total_Stops Additional_Info  Price Date Month  Year  \\\n",
       "0  01:10 22 Mar   2h 50m    non-stop         No info   3897   24    03  2019   \n",
       "1         13:15   7h 25m     2 stops         No info   7662    1    05  2019   \n",
       "2  04:25 10 Jun      19h     2 stops         No info  13882    9    06  2019   \n",
       "3         23:30   5h 25m      1 stop         No info   6218   12    05  2019   \n",
       "4         21:35   4h 45m      1 stop         No info  13302   01    03  2019   \n",
       "\n",
       "  Route1 Route2 Route3 Route4 Route5  \n",
       "0   BLR     DEL    COK    NaN    NaN  \n",
       "1   CCU    IXR    BBI     BLR    NaN  \n",
       "2   DEL    LKO    BOM     COK    NaN  \n",
       "3   CCU    NAG     BLR    NaN    NaN  \n",
       "4   BLR    NAG     DEL    NaN    NaN  "
      ]
     },
     "execution_count": 58,
     "metadata": {},
     "output_type": "execute_result"
    }
   ],
   "source": [
    "Train_data.head()"
   ]
  },
  {
   "cell_type": "code",
   "execution_count": 59,
   "id": "03320d82",
   "metadata": {},
   "outputs": [
    {
     "data": {
      "text/plain": [
       "9100"
      ]
     },
     "execution_count": 59,
     "metadata": {},
     "output_type": "execute_result"
    }
   ],
   "source": [
    "Train_data['Route4'].isna().sum()"
   ]
  },
  {
   "cell_type": "code",
   "execution_count": 60,
   "id": "e96762d3",
   "metadata": {},
   "outputs": [
    {
     "data": {
      "text/plain": [
       "10418"
      ]
     },
     "execution_count": 60,
     "metadata": {},
     "output_type": "execute_result"
    }
   ],
   "source": [
    "Train_data['Route5'].isna().sum()"
   ]
  },
  {
   "cell_type": "code",
   "execution_count": 61,
   "id": "7370b269",
   "metadata": {},
   "outputs": [],
   "source": [
    "'''Route4 and Route5 columns have more than 50% null values. So, we will drop these columns'''\n",
    "Train_data.drop(['Route4','Route5'],axis=1,inplace=True)"
   ]
  },
  {
   "cell_type": "code",
   "execution_count": 62,
   "id": "95b9bd41",
   "metadata": {},
   "outputs": [
    {
     "data": {
      "text/html": [
       "<div>\n",
       "<style scoped>\n",
       "    .dataframe tbody tr th:only-of-type {\n",
       "        vertical-align: middle;\n",
       "    }\n",
       "\n",
       "    .dataframe tbody tr th {\n",
       "        vertical-align: top;\n",
       "    }\n",
       "\n",
       "    .dataframe thead th {\n",
       "        text-align: right;\n",
       "    }\n",
       "</style>\n",
       "<table border=\"1\" class=\"dataframe\">\n",
       "  <thead>\n",
       "    <tr style=\"text-align: right;\">\n",
       "      <th></th>\n",
       "      <th>Airline</th>\n",
       "      <th>Source</th>\n",
       "      <th>Destination</th>\n",
       "      <th>Route</th>\n",
       "      <th>Dep_Time</th>\n",
       "      <th>Arrival_Time</th>\n",
       "      <th>Duration</th>\n",
       "      <th>Total_Stops</th>\n",
       "      <th>Additional_Info</th>\n",
       "      <th>Price</th>\n",
       "      <th>Date</th>\n",
       "      <th>Month</th>\n",
       "      <th>Year</th>\n",
       "      <th>Route1</th>\n",
       "      <th>Route2</th>\n",
       "      <th>Route3</th>\n",
       "    </tr>\n",
       "  </thead>\n",
       "  <tbody>\n",
       "    <tr>\n",
       "      <th>0</th>\n",
       "      <td>IndiGo</td>\n",
       "      <td>Banglore</td>\n",
       "      <td>New Delhi</td>\n",
       "      <td>BLR → DEL</td>\n",
       "      <td>22:20</td>\n",
       "      <td>01:10 22 Mar</td>\n",
       "      <td>2h 50m</td>\n",
       "      <td>non-stop</td>\n",
       "      <td>No info</td>\n",
       "      <td>3897</td>\n",
       "      <td>24</td>\n",
       "      <td>03</td>\n",
       "      <td>2019</td>\n",
       "      <td>BLR</td>\n",
       "      <td>DEL</td>\n",
       "      <td>COK</td>\n",
       "    </tr>\n",
       "    <tr>\n",
       "      <th>1</th>\n",
       "      <td>Air India</td>\n",
       "      <td>Kolkata</td>\n",
       "      <td>Banglore</td>\n",
       "      <td>CCU → IXR → BBI → BLR</td>\n",
       "      <td>05:50</td>\n",
       "      <td>13:15</td>\n",
       "      <td>7h 25m</td>\n",
       "      <td>2 stops</td>\n",
       "      <td>No info</td>\n",
       "      <td>7662</td>\n",
       "      <td>1</td>\n",
       "      <td>05</td>\n",
       "      <td>2019</td>\n",
       "      <td>CCU</td>\n",
       "      <td>IXR</td>\n",
       "      <td>BBI</td>\n",
       "    </tr>\n",
       "    <tr>\n",
       "      <th>2</th>\n",
       "      <td>Jet Airways</td>\n",
       "      <td>Delhi</td>\n",
       "      <td>Cochin</td>\n",
       "      <td>DEL → LKO → BOM → COK</td>\n",
       "      <td>09:25</td>\n",
       "      <td>04:25 10 Jun</td>\n",
       "      <td>19h</td>\n",
       "      <td>2 stops</td>\n",
       "      <td>No info</td>\n",
       "      <td>13882</td>\n",
       "      <td>9</td>\n",
       "      <td>06</td>\n",
       "      <td>2019</td>\n",
       "      <td>DEL</td>\n",
       "      <td>LKO</td>\n",
       "      <td>BOM</td>\n",
       "    </tr>\n",
       "    <tr>\n",
       "      <th>3</th>\n",
       "      <td>IndiGo</td>\n",
       "      <td>Kolkata</td>\n",
       "      <td>Banglore</td>\n",
       "      <td>CCU → NAG → BLR</td>\n",
       "      <td>18:05</td>\n",
       "      <td>23:30</td>\n",
       "      <td>5h 25m</td>\n",
       "      <td>1 stop</td>\n",
       "      <td>No info</td>\n",
       "      <td>6218</td>\n",
       "      <td>12</td>\n",
       "      <td>05</td>\n",
       "      <td>2019</td>\n",
       "      <td>CCU</td>\n",
       "      <td>NAG</td>\n",
       "      <td>BLR</td>\n",
       "    </tr>\n",
       "    <tr>\n",
       "      <th>4</th>\n",
       "      <td>IndiGo</td>\n",
       "      <td>Banglore</td>\n",
       "      <td>New Delhi</td>\n",
       "      <td>BLR → NAG → DEL</td>\n",
       "      <td>16:50</td>\n",
       "      <td>21:35</td>\n",
       "      <td>4h 45m</td>\n",
       "      <td>1 stop</td>\n",
       "      <td>No info</td>\n",
       "      <td>13302</td>\n",
       "      <td>01</td>\n",
       "      <td>03</td>\n",
       "      <td>2019</td>\n",
       "      <td>BLR</td>\n",
       "      <td>NAG</td>\n",
       "      <td>DEL</td>\n",
       "    </tr>\n",
       "  </tbody>\n",
       "</table>\n",
       "</div>"
      ],
      "text/plain": [
       "       Airline    Source Destination                  Route Dep_Time  \\\n",
       "0       IndiGo  Banglore   New Delhi              BLR → DEL    22:20   \n",
       "1    Air India   Kolkata    Banglore  CCU → IXR → BBI → BLR    05:50   \n",
       "2  Jet Airways     Delhi      Cochin  DEL → LKO → BOM → COK    09:25   \n",
       "3       IndiGo   Kolkata    Banglore        CCU → NAG → BLR    18:05   \n",
       "4       IndiGo  Banglore   New Delhi        BLR → NAG → DEL    16:50   \n",
       "\n",
       "   Arrival_Time Duration Total_Stops Additional_Info  Price Date Month  Year  \\\n",
       "0  01:10 22 Mar   2h 50m    non-stop         No info   3897   24    03  2019   \n",
       "1         13:15   7h 25m     2 stops         No info   7662    1    05  2019   \n",
       "2  04:25 10 Jun      19h     2 stops         No info  13882    9    06  2019   \n",
       "3         23:30   5h 25m      1 stop         No info   6218   12    05  2019   \n",
       "4         21:35   4h 45m      1 stop         No info  13302   01    03  2019   \n",
       "\n",
       "  Route1 Route2 Route3  \n",
       "0   BLR     DEL    COK  \n",
       "1   CCU    IXR    BBI   \n",
       "2   DEL    LKO    BOM   \n",
       "3   CCU    NAG     BLR  \n",
       "4   BLR    NAG     DEL  "
      ]
     },
     "execution_count": 62,
     "metadata": {},
     "output_type": "execute_result"
    }
   ],
   "source": [
    "Train_data.head()"
   ]
  },
  {
   "cell_type": "code",
   "execution_count": 63,
   "id": "e96dc1f5",
   "metadata": {},
   "outputs": [],
   "source": [
    "Train_data['Dep_Hours']=Train_data['Dep_Time'].str.split(':').str[0].astype('int')\n",
    "Train_data['Dep_Minutes']=Train_data['Dep_Time'].str.split(':').str[1].astype('int')"
   ]
  },
  {
   "cell_type": "code",
   "execution_count": 64,
   "id": "c91340c1",
   "metadata": {},
   "outputs": [
    {
     "data": {
      "image/png": "[encoded data removed]",
      "text/plain": [
       "<Figure size 432x288 with 1 Axes>"
      ]
     },
     "metadata": {
      "needs_background": "light"
     },
     "output_type": "display_data"
    }
   ],
   "source": [
    "sns.boxplot(x=Train_data['Dep_Hours'],y=Train_data['Price'])\n",
    "plt.show()"
   ]
  },
  {
   "cell_type": "code",
   "execution_count": 65,
   "id": "71ef0f19",
   "metadata": {},
   "outputs": [],
   "source": [
    "# Flights which departed at 1 AM for departure have the lowest prices, 3 AM, 10 AM, 12 PM, 13 PM and 15 PM have also low prices,\n",
    "# 5 AM have the highest prices,9 AM, 16 PM, 18 PM, 20 PM and 22 PM have also high prices."
   ]
  },
  {
   "cell_type": "code",
   "execution_count": 66,
   "id": "1ad57f08",
   "metadata": {
    "scrolled": true
   },
   "outputs": [
    {
     "data": {
      "text/html": [
       "<div>\n",
       "<style scoped>\n",
       "    .dataframe tbody tr th:only-of-type {\n",
       "        vertical-align: middle;\n",
       "    }\n",
       "\n",
       "    .dataframe tbody tr th {\n",
       "        vertical-align: top;\n",
       "    }\n",
       "\n",
       "    .dataframe thead th {\n",
       "        text-align: right;\n",
       "    }\n",
       "</style>\n",
       "<table border=\"1\" class=\"dataframe\">\n",
       "  <thead>\n",
       "    <tr style=\"text-align: right;\">\n",
       "      <th></th>\n",
       "      <th>Airline</th>\n",
       "      <th>Source</th>\n",
       "      <th>Destination</th>\n",
       "      <th>Route</th>\n",
       "      <th>Dep_Time</th>\n",
       "      <th>Arrival_Time</th>\n",
       "      <th>Duration</th>\n",
       "      <th>Total_Stops</th>\n",
       "      <th>Additional_Info</th>\n",
       "      <th>Price</th>\n",
       "      <th>Date</th>\n",
       "      <th>Month</th>\n",
       "      <th>Year</th>\n",
       "      <th>Route1</th>\n",
       "      <th>Route2</th>\n",
       "      <th>Route3</th>\n",
       "      <th>Dep_Hours</th>\n",
       "      <th>Dep_Minutes</th>\n",
       "    </tr>\n",
       "  </thead>\n",
       "  <tbody>\n",
       "    <tr>\n",
       "      <th>0</th>\n",
       "      <td>IndiGo</td>\n",
       "      <td>Banglore</td>\n",
       "      <td>New Delhi</td>\n",
       "      <td>BLR → DEL</td>\n",
       "      <td>22:20</td>\n",
       "      <td>01:10 22 Mar</td>\n",
       "      <td>2h 50m</td>\n",
       "      <td>non-stop</td>\n",
       "      <td>No info</td>\n",
       "      <td>3897</td>\n",
       "      <td>24</td>\n",
       "      <td>03</td>\n",
       "      <td>2019</td>\n",
       "      <td>BLR</td>\n",
       "      <td>DEL</td>\n",
       "      <td>COK</td>\n",
       "      <td>22</td>\n",
       "      <td>20</td>\n",
       "    </tr>\n",
       "    <tr>\n",
       "      <th>1</th>\n",
       "      <td>Air India</td>\n",
       "      <td>Kolkata</td>\n",
       "      <td>Banglore</td>\n",
       "      <td>CCU → IXR → BBI → BLR</td>\n",
       "      <td>05:50</td>\n",
       "      <td>13:15</td>\n",
       "      <td>7h 25m</td>\n",
       "      <td>2 stops</td>\n",
       "      <td>No info</td>\n",
       "      <td>7662</td>\n",
       "      <td>1</td>\n",
       "      <td>05</td>\n",
       "      <td>2019</td>\n",
       "      <td>CCU</td>\n",
       "      <td>IXR</td>\n",
       "      <td>BBI</td>\n",
       "      <td>5</td>\n",
       "      <td>50</td>\n",
       "    </tr>\n",
       "    <tr>\n",
       "      <th>2</th>\n",
       "      <td>Jet Airways</td>\n",
       "      <td>Delhi</td>\n",
       "      <td>Cochin</td>\n",
       "      <td>DEL → LKO → BOM → COK</td>\n",
       "      <td>09:25</td>\n",
       "      <td>04:25 10 Jun</td>\n",
       "      <td>19h</td>\n",
       "      <td>2 stops</td>\n",
       "      <td>No info</td>\n",
       "      <td>13882</td>\n",
       "      <td>9</td>\n",
       "      <td>06</td>\n",
       "      <td>2019</td>\n",
       "      <td>DEL</td>\n",
       "      <td>LKO</td>\n",
       "      <td>BOM</td>\n",
       "      <td>9</td>\n",
       "      <td>25</td>\n",
       "    </tr>\n",
       "    <tr>\n",
       "      <th>3</th>\n",
       "      <td>IndiGo</td>\n",
       "      <td>Kolkata</td>\n",
       "      <td>Banglore</td>\n",
       "      <td>CCU → NAG → BLR</td>\n",
       "      <td>18:05</td>\n",
       "      <td>23:30</td>\n",
       "      <td>5h 25m</td>\n",
       "      <td>1 stop</td>\n",
       "      <td>No info</td>\n",
       "      <td>6218</td>\n",
       "      <td>12</td>\n",
       "      <td>05</td>\n",
       "      <td>2019</td>\n",
       "      <td>CCU</td>\n",
       "      <td>NAG</td>\n",
       "      <td>BLR</td>\n",
       "      <td>18</td>\n",
       "      <td>5</td>\n",
       "    </tr>\n",
       "    <tr>\n",
       "      <th>4</th>\n",
       "      <td>IndiGo</td>\n",
       "      <td>Banglore</td>\n",
       "      <td>New Delhi</td>\n",
       "      <td>BLR → NAG → DEL</td>\n",
       "      <td>16:50</td>\n",
       "      <td>21:35</td>\n",
       "      <td>4h 45m</td>\n",
       "      <td>1 stop</td>\n",
       "      <td>No info</td>\n",
       "      <td>13302</td>\n",
       "      <td>01</td>\n",
       "      <td>03</td>\n",
       "      <td>2019</td>\n",
       "      <td>BLR</td>\n",
       "      <td>NAG</td>\n",
       "      <td>DEL</td>\n",
       "      <td>16</td>\n",
       "      <td>50</td>\n",
       "    </tr>\n",
       "  </tbody>\n",
       "</table>\n",
       "</div>"
      ],
      "text/plain": [
       "       Airline    Source Destination                  Route Dep_Time  \\\n",
       "0       IndiGo  Banglore   New Delhi              BLR → DEL    22:20   \n",
       "1    Air India   Kolkata    Banglore  CCU → IXR → BBI → BLR    05:50   \n",
       "2  Jet Airways     Delhi      Cochin  DEL → LKO → BOM → COK    09:25   \n",
       "3       IndiGo   Kolkata    Banglore        CCU → NAG → BLR    18:05   \n",
       "4       IndiGo  Banglore   New Delhi        BLR → NAG → DEL    16:50   \n",
       "\n",
       "   Arrival_Time Duration Total_Stops Additional_Info  Price Date Month  Year  \\\n",
       "0  01:10 22 Mar   2h 50m    non-stop         No info   3897   24    03  2019   \n",
       "1         13:15   7h 25m     2 stops         No info   7662    1    05  2019   \n",
       "2  04:25 10 Jun      19h     2 stops         No info  13882    9    06  2019   \n",
       "3         23:30   5h 25m      1 stop         No info   6218   12    05  2019   \n",
       "4         21:35   4h 45m      1 stop         No info  13302   01    03  2019   \n",
       "\n",
       "  Route1 Route2 Route3  Dep_Hours  Dep_Minutes  \n",
       "0   BLR     DEL    COK         22           20  \n",
       "1   CCU    IXR    BBI           5           50  \n",
       "2   DEL    LKO    BOM           9           25  \n",
       "3   CCU    NAG     BLR         18            5  \n",
       "4   BLR    NAG     DEL         16           50  "
      ]
     },
     "execution_count": 66,
     "metadata": {},
     "output_type": "execute_result"
    }
   ],
   "source": [
    "Train_data.head()"
   ]
  },
  {
   "cell_type": "code",
   "execution_count": 67,
   "id": "cf824493",
   "metadata": {},
   "outputs": [],
   "source": [
    "Train_data['Arrival_Time']=Train_data['Arrival_Time'].str.split(' ').str[0]"
   ]
  },
  {
   "cell_type": "code",
   "execution_count": 68,
   "id": "9eefb929",
   "metadata": {},
   "outputs": [],
   "source": [
    "Train_data['Arrival_hour']=Train_data['Arrival_Time'].str.split(':').str[0]"
   ]
  },
  {
   "cell_type": "code",
   "execution_count": 69,
   "id": "8e2f8257",
   "metadata": {},
   "outputs": [],
   "source": [
    "Train_data['Arrival_hour']=Train_data['Arrival_hour'].astype('int')"
   ]
  },
  {
   "cell_type": "code",
   "execution_count": 70,
   "id": "8206a22d",
   "metadata": {},
   "outputs": [],
   "source": [
    "Train_data['Arrival_minute']=Train_data['Arrival_Time'].str.split(':').str[1]"
   ]
  },
  {
   "cell_type": "code",
   "execution_count": 71,
   "id": "a682ab68",
   "metadata": {},
   "outputs": [],
   "source": [
    "Train_data['Arrival_minute']=Train_data['Arrival_minute'].astype('int')"
   ]
  },
  {
   "cell_type": "code",
   "execution_count": 72,
   "id": "96b81f37",
   "metadata": {},
   "outputs": [],
   "source": [
    "Train_data['Duration_Hours']=Train_data['Duration'].str.split('h').str[0]"
   ]
  },
  {
   "cell_type": "code",
   "execution_count": 73,
   "id": "829cd8c9",
   "metadata": {},
   "outputs": [],
   "source": [
    "Train_data['Duration_Hours']=Train_data['Duration_Hours'].replace('5m','0')"
   ]
  },
  {
   "cell_type": "code",
   "execution_count": 74,
   "id": "50eab92a",
   "metadata": {},
   "outputs": [],
   "source": [
    "Train_data['Duration_Hours']=Train_data['Duration_Hours'].astype('int')"
   ]
  },
  {
   "cell_type": "code",
   "execution_count": 75,
   "id": "562ae9c9",
   "metadata": {},
   "outputs": [
    {
     "data": {
      "image/png": "[encoded data removed]",
      "text/plain": [
       "<Figure size 432x288 with 1 Axes>"
      ]
     },
     "metadata": {
      "needs_background": "light"
     },
     "output_type": "display_data"
    }
   ],
   "source": [
    "sns.boxplot(x=Train_data['Duration_Hours'],y=Train_data['Price'])\n",
    "plt.show()"
   ]
  },
  {
   "cell_type": "code",
   "execution_count": 76,
   "id": "aefa7b85",
   "metadata": {},
   "outputs": [],
   "source": [
    "# Flight has highest 5 hours duration"
   ]
  },
  {
   "cell_type": "code",
   "execution_count": 77,
   "id": "5ea70e4b",
   "metadata": {},
   "outputs": [],
   "source": [
    "Train_data['Duration_Minutes']=Train_data['Duration'].str.split(' ').str[1].str.split('m').str[0]"
   ]
  },
  {
   "cell_type": "code",
   "execution_count": 78,
   "id": "0861747b",
   "metadata": {},
   "outputs": [],
   "source": [
    "Train_data['Duration_Minutes']=Train_data['Duration_Minutes'].fillna(Train_data['Duration_Minutes'].mode()[0])"
   ]
  },
  {
   "cell_type": "code",
   "execution_count": 79,
   "id": "c2f2480a",
   "metadata": {},
   "outputs": [],
   "source": [
    "Train_data['Duration_Minutes']=Train_data['Duration_Minutes'].astype('int')"
   ]
  },
  {
   "cell_type": "code",
   "execution_count": 80,
   "id": "728bd9f0",
   "metadata": {},
   "outputs": [
    {
     "data": {
      "image/png": "[encoded data removed]",
      "text/plain": [
       "<Figure size 432x288 with 1 Axes>"
      ]
     },
     "metadata": {
      "needs_background": "light"
     },
     "output_type": "display_data"
    }
   ],
   "source": [
    "sns.stripplot(x=Train_data['Duration_Minutes'],y=Train_data['Price'])\n",
    "plt.show()"
   ]
  },
  {
   "cell_type": "code",
   "execution_count": 81,
   "id": "19ad47ed",
   "metadata": {},
   "outputs": [],
   "source": [
    "# As we have split 'Route','Dep_Time' , 'Arrival_Time','Duration' columns. So, we well drop these columns.\n",
    "Train_data.drop(['Route','Dep_Time', 'Arrival_Time','Duration'],axis=1,inplace=True)"
   ]
  },
  {
   "cell_type": "code",
   "execution_count": 82,
   "id": "0ee62a0c",
   "metadata": {},
   "outputs": [
    {
     "data": {
      "text/html": [
       "<div>\n",
       "<style scoped>\n",
       "    .dataframe tbody tr th:only-of-type {\n",
       "        vertical-align: middle;\n",
       "    }\n",
       "\n",
       "    .dataframe tbody tr th {\n",
       "        vertical-align: top;\n",
       "    }\n",
       "\n",
       "    .dataframe thead th {\n",
       "        text-align: right;\n",
       "    }\n",
       "</style>\n",
       "<table border=\"1\" class=\"dataframe\">\n",
       "  <thead>\n",
       "    <tr style=\"text-align: right;\">\n",
       "      <th></th>\n",
       "      <th>Airline</th>\n",
       "      <th>Source</th>\n",
       "      <th>Destination</th>\n",
       "      <th>Total_Stops</th>\n",
       "      <th>Additional_Info</th>\n",
       "      <th>Price</th>\n",
       "      <th>Date</th>\n",
       "      <th>Month</th>\n",
       "      <th>Year</th>\n",
       "      <th>Route1</th>\n",
       "      <th>Route2</th>\n",
       "      <th>Route3</th>\n",
       "      <th>Dep_Hours</th>\n",
       "      <th>Dep_Minutes</th>\n",
       "      <th>Arrival_hour</th>\n",
       "      <th>Arrival_minute</th>\n",
       "      <th>Duration_Hours</th>\n",
       "      <th>Duration_Minutes</th>\n",
       "    </tr>\n",
       "  </thead>\n",
       "  <tbody>\n",
       "    <tr>\n",
       "      <th>0</th>\n",
       "      <td>IndiGo</td>\n",
       "      <td>Banglore</td>\n",
       "      <td>New Delhi</td>\n",
       "      <td>non-stop</td>\n",
       "      <td>No info</td>\n",
       "      <td>3897</td>\n",
       "      <td>24</td>\n",
       "      <td>03</td>\n",
       "      <td>2019</td>\n",
       "      <td>BLR</td>\n",
       "      <td>DEL</td>\n",
       "      <td>COK</td>\n",
       "      <td>22</td>\n",
       "      <td>20</td>\n",
       "      <td>1</td>\n",
       "      <td>10</td>\n",
       "      <td>2</td>\n",
       "      <td>50</td>\n",
       "    </tr>\n",
       "    <tr>\n",
       "      <th>1</th>\n",
       "      <td>Air India</td>\n",
       "      <td>Kolkata</td>\n",
       "      <td>Banglore</td>\n",
       "      <td>2 stops</td>\n",
       "      <td>No info</td>\n",
       "      <td>7662</td>\n",
       "      <td>1</td>\n",
       "      <td>05</td>\n",
       "      <td>2019</td>\n",
       "      <td>CCU</td>\n",
       "      <td>IXR</td>\n",
       "      <td>BBI</td>\n",
       "      <td>5</td>\n",
       "      <td>50</td>\n",
       "      <td>13</td>\n",
       "      <td>15</td>\n",
       "      <td>7</td>\n",
       "      <td>25</td>\n",
       "    </tr>\n",
       "    <tr>\n",
       "      <th>2</th>\n",
       "      <td>Jet Airways</td>\n",
       "      <td>Delhi</td>\n",
       "      <td>Cochin</td>\n",
       "      <td>2 stops</td>\n",
       "      <td>No info</td>\n",
       "      <td>13882</td>\n",
       "      <td>9</td>\n",
       "      <td>06</td>\n",
       "      <td>2019</td>\n",
       "      <td>DEL</td>\n",
       "      <td>LKO</td>\n",
       "      <td>BOM</td>\n",
       "      <td>9</td>\n",
       "      <td>25</td>\n",
       "      <td>4</td>\n",
       "      <td>25</td>\n",
       "      <td>19</td>\n",
       "      <td>30</td>\n",
       "    </tr>\n",
       "    <tr>\n",
       "      <th>3</th>\n",
       "      <td>IndiGo</td>\n",
       "      <td>Kolkata</td>\n",
       "      <td>Banglore</td>\n",
       "      <td>1 stop</td>\n",
       "      <td>No info</td>\n",
       "      <td>6218</td>\n",
       "      <td>12</td>\n",
       "      <td>05</td>\n",
       "      <td>2019</td>\n",
       "      <td>CCU</td>\n",
       "      <td>NAG</td>\n",
       "      <td>BLR</td>\n",
       "      <td>18</td>\n",
       "      <td>5</td>\n",
       "      <td>23</td>\n",
       "      <td>30</td>\n",
       "      <td>5</td>\n",
       "      <td>25</td>\n",
       "    </tr>\n",
       "    <tr>\n",
       "      <th>4</th>\n",
       "      <td>IndiGo</td>\n",
       "      <td>Banglore</td>\n",
       "      <td>New Delhi</td>\n",
       "      <td>1 stop</td>\n",
       "      <td>No info</td>\n",
       "      <td>13302</td>\n",
       "      <td>01</td>\n",
       "      <td>03</td>\n",
       "      <td>2019</td>\n",
       "      <td>BLR</td>\n",
       "      <td>NAG</td>\n",
       "      <td>DEL</td>\n",
       "      <td>16</td>\n",
       "      <td>50</td>\n",
       "      <td>21</td>\n",
       "      <td>35</td>\n",
       "      <td>4</td>\n",
       "      <td>45</td>\n",
       "    </tr>\n",
       "  </tbody>\n",
       "</table>\n",
       "</div>"
      ],
      "text/plain": [
       "       Airline    Source Destination Total_Stops Additional_Info  Price Date  \\\n",
       "0       IndiGo  Banglore   New Delhi    non-stop         No info   3897   24   \n",
       "1    Air India   Kolkata    Banglore     2 stops         No info   7662    1   \n",
       "2  Jet Airways     Delhi      Cochin     2 stops         No info  13882    9   \n",
       "3       IndiGo   Kolkata    Banglore      1 stop         No info   6218   12   \n",
       "4       IndiGo  Banglore   New Delhi      1 stop         No info  13302   01   \n",
       "\n",
       "  Month  Year Route1 Route2 Route3  Dep_Hours  Dep_Minutes  Arrival_hour  \\\n",
       "0    03  2019   BLR     DEL    COK         22           20             1   \n",
       "1    05  2019   CCU    IXR    BBI           5           50            13   \n",
       "2    06  2019   DEL    LKO    BOM           9           25             4   \n",
       "3    05  2019   CCU    NAG     BLR         18            5            23   \n",
       "4    03  2019   BLR    NAG     DEL         16           50            21   \n",
       "\n",
       "   Arrival_minute  Duration_Hours  Duration_Minutes  \n",
       "0              10               2                50  \n",
       "1              15               7                25  \n",
       "2              25              19                30  \n",
       "3              30               5                25  \n",
       "4              35               4                45  "
      ]
     },
     "execution_count": 82,
     "metadata": {},
     "output_type": "execute_result"
    }
   ],
   "source": [
    "Train_data.head(5)"
   ]
  },
  {
   "cell_type": "code",
   "execution_count": 83,
   "id": "5268dad5",
   "metadata": {},
   "outputs": [
    {
     "name": "stdout",
     "output_type": "stream",
     "text": [
      "<class 'pandas.core.frame.DataFrame'>\n",
      "Int64Index: 10462 entries, 0 to 10682\n",
      "Data columns (total 18 columns):\n",
      " #   Column            Non-Null Count  Dtype \n",
      "---  ------            --------------  ----- \n",
      " 0   Airline           10462 non-null  object\n",
      " 1   Source            10462 non-null  object\n",
      " 2   Destination       10462 non-null  object\n",
      " 3   Total_Stops       10462 non-null  object\n",
      " 4   Additional_Info   10462 non-null  object\n",
      " 5   Price             10462 non-null  int64 \n",
      " 6   Date              10462 non-null  object\n",
      " 7   Month             10462 non-null  object\n",
      " 8   Year              10462 non-null  object\n",
      " 9   Route1            10462 non-null  object\n",
      " 10  Route2            10462 non-null  object\n",
      " 11  Route3            10462 non-null  object\n",
      " 12  Dep_Hours         10462 non-null  int32 \n",
      " 13  Dep_Minutes       10462 non-null  int32 \n",
      " 14  Arrival_hour      10462 non-null  int32 \n",
      " 15  Arrival_minute    10462 non-null  int32 \n",
      " 16  Duration_Hours    10462 non-null  int32 \n",
      " 17  Duration_Minutes  10462 non-null  int32 \n",
      "dtypes: int32(6), int64(1), object(11)\n",
      "memory usage: 1.3+ MB\n"
     ]
    }
   ],
   "source": [
    "Train_data.info()"
   ]
  },
  {
   "cell_type": "code",
   "execution_count": 84,
   "id": "33920c2f",
   "metadata": {},
   "outputs": [],
   "source": [
    "# we separate object datatypes\n",
    "object_columns = []\n",
    "for i in Train_data.columns:\n",
    "    if Train_data[i].dtypes=='object':\n",
    "        object_columns.append(i)"
   ]
  },
  {
   "cell_type": "code",
   "execution_count": 85,
   "id": "103fbea0",
   "metadata": {},
   "outputs": [
    {
     "data": {
      "text/plain": [
       "['Airline',\n",
       " 'Source',\n",
       " 'Destination',\n",
       " 'Total_Stops',\n",
       " 'Additional_Info',\n",
       " 'Date',\n",
       " 'Month',\n",
       " 'Year',\n",
       " 'Route1',\n",
       " 'Route2',\n",
       " 'Route3']"
      ]
     },
     "execution_count": 85,
     "metadata": {},
     "output_type": "execute_result"
    }
   ],
   "source": [
    "object_columns"
   ]
  },
  {
   "cell_type": "code",
   "execution_count": 86,
   "id": "d36fcd2c",
   "metadata": {},
   "outputs": [],
   "source": [
    "# Now we convert object datypes into numerical datatype\n",
    "from sklearn.preprocessing import LabelEncoder\n",
    "le = LabelEncoder()\n",
    "for j in object_columns:\n",
    "    Train_data[j] = le.fit_transform(Train_data[j])"
   ]
  },
  {
   "cell_type": "code",
   "execution_count": 87,
   "id": "e0833f7f",
   "metadata": {},
   "outputs": [
    {
     "data": {
      "text/html": [
       "<div>\n",
       "<style scoped>\n",
       "    .dataframe tbody tr th:only-of-type {\n",
       "        vertical-align: middle;\n",
       "    }\n",
       "\n",
       "    .dataframe tbody tr th {\n",
       "        vertical-align: top;\n",
       "    }\n",
       "\n",
       "    .dataframe thead th {\n",
       "        text-align: right;\n",
       "    }\n",
       "</style>\n",
       "<table border=\"1\" class=\"dataframe\">\n",
       "  <thead>\n",
       "    <tr style=\"text-align: right;\">\n",
       "      <th></th>\n",
       "      <th>Airline</th>\n",
       "      <th>Source</th>\n",
       "      <th>Destination</th>\n",
       "      <th>Total_Stops</th>\n",
       "      <th>Additional_Info</th>\n",
       "      <th>Price</th>\n",
       "      <th>Date</th>\n",
       "      <th>Month</th>\n",
       "      <th>Year</th>\n",
       "      <th>Route1</th>\n",
       "      <th>Route2</th>\n",
       "      <th>Route3</th>\n",
       "      <th>Dep_Hours</th>\n",
       "      <th>Dep_Minutes</th>\n",
       "      <th>Arrival_hour</th>\n",
       "      <th>Arrival_minute</th>\n",
       "      <th>Duration_Hours</th>\n",
       "      <th>Duration_Minutes</th>\n",
       "    </tr>\n",
       "  </thead>\n",
       "  <tbody>\n",
       "    <tr>\n",
       "      <th>0</th>\n",
       "      <td>3</td>\n",
       "      <td>0</td>\n",
       "      <td>5</td>\n",
       "      <td>4</td>\n",
       "      <td>8</td>\n",
       "      <td>3897</td>\n",
       "      <td>9</td>\n",
       "      <td>0</td>\n",
       "      <td>0</td>\n",
       "      <td>0</td>\n",
       "      <td>13</td>\n",
       "      <td>6</td>\n",
       "      <td>22</td>\n",
       "      <td>20</td>\n",
       "      <td>1</td>\n",
       "      <td>10</td>\n",
       "      <td>2</td>\n",
       "      <td>50</td>\n",
       "    </tr>\n",
       "    <tr>\n",
       "      <th>1</th>\n",
       "      <td>1</td>\n",
       "      <td>3</td>\n",
       "      <td>0</td>\n",
       "      <td>1</td>\n",
       "      <td>8</td>\n",
       "      <td>7662</td>\n",
       "      <td>4</td>\n",
       "      <td>2</td>\n",
       "      <td>0</td>\n",
       "      <td>2</td>\n",
       "      <td>25</td>\n",
       "      <td>1</td>\n",
       "      <td>5</td>\n",
       "      <td>50</td>\n",
       "      <td>13</td>\n",
       "      <td>15</td>\n",
       "      <td>7</td>\n",
       "      <td>25</td>\n",
       "    </tr>\n",
       "    <tr>\n",
       "      <th>2</th>\n",
       "      <td>4</td>\n",
       "      <td>2</td>\n",
       "      <td>1</td>\n",
       "      <td>1</td>\n",
       "      <td>8</td>\n",
       "      <td>13882</td>\n",
       "      <td>13</td>\n",
       "      <td>3</td>\n",
       "      <td>0</td>\n",
       "      <td>3</td>\n",
       "      <td>32</td>\n",
       "      <td>4</td>\n",
       "      <td>9</td>\n",
       "      <td>25</td>\n",
       "      <td>4</td>\n",
       "      <td>25</td>\n",
       "      <td>19</td>\n",
       "      <td>30</td>\n",
       "    </tr>\n",
       "    <tr>\n",
       "      <th>3</th>\n",
       "      <td>3</td>\n",
       "      <td>3</td>\n",
       "      <td>0</td>\n",
       "      <td>0</td>\n",
       "      <td>8</td>\n",
       "      <td>6218</td>\n",
       "      <td>5</td>\n",
       "      <td>2</td>\n",
       "      <td>0</td>\n",
       "      <td>2</td>\n",
       "      <td>34</td>\n",
       "      <td>3</td>\n",
       "      <td>18</td>\n",
       "      <td>5</td>\n",
       "      <td>23</td>\n",
       "      <td>30</td>\n",
       "      <td>5</td>\n",
       "      <td>25</td>\n",
       "    </tr>\n",
       "    <tr>\n",
       "      <th>4</th>\n",
       "      <td>3</td>\n",
       "      <td>0</td>\n",
       "      <td>5</td>\n",
       "      <td>0</td>\n",
       "      <td>8</td>\n",
       "      <td>13302</td>\n",
       "      <td>0</td>\n",
       "      <td>0</td>\n",
       "      <td>0</td>\n",
       "      <td>0</td>\n",
       "      <td>34</td>\n",
       "      <td>8</td>\n",
       "      <td>16</td>\n",
       "      <td>50</td>\n",
       "      <td>21</td>\n",
       "      <td>35</td>\n",
       "      <td>4</td>\n",
       "      <td>45</td>\n",
       "    </tr>\n",
       "  </tbody>\n",
       "</table>\n",
       "</div>"
      ],
      "text/plain": [
       "   Airline  Source  Destination  Total_Stops  Additional_Info  Price  Date  \\\n",
       "0        3       0            5            4                8   3897     9   \n",
       "1        1       3            0            1                8   7662     4   \n",
       "2        4       2            1            1                8  13882    13   \n",
       "3        3       3            0            0                8   6218     5   \n",
       "4        3       0            5            0                8  13302     0   \n",
       "\n",
       "   Month  Year  Route1  Route2  Route3  Dep_Hours  Dep_Minutes  Arrival_hour  \\\n",
       "0      0     0       0      13       6         22           20             1   \n",
       "1      2     0       2      25       1          5           50            13   \n",
       "2      3     0       3      32       4          9           25             4   \n",
       "3      2     0       2      34       3         18            5            23   \n",
       "4      0     0       0      34       8         16           50            21   \n",
       "\n",
       "   Arrival_minute  Duration_Hours  Duration_Minutes  \n",
       "0              10               2                50  \n",
       "1              15               7                25  \n",
       "2              25              19                30  \n",
       "3              30               5                25  \n",
       "4              35               4                45  "
      ]
     },
     "execution_count": 87,
     "metadata": {},
     "output_type": "execute_result"
    }
   ],
   "source": [
    "Train_data.head(5)"
   ]
  },
  {
   "cell_type": "code",
   "execution_count": 88,
   "id": "0a808ba5",
   "metadata": {},
   "outputs": [
    {
     "data": {
      "text/html": [
       "<div>\n",
       "<style scoped>\n",
       "    .dataframe tbody tr th:only-of-type {\n",
       "        vertical-align: middle;\n",
       "    }\n",
       "\n",
       "    .dataframe tbody tr th {\n",
       "        vertical-align: top;\n",
       "    }\n",
       "\n",
       "    .dataframe thead th {\n",
       "        text-align: right;\n",
       "    }\n",
       "</style>\n",
       "<table border=\"1\" class=\"dataframe\">\n",
       "  <thead>\n",
       "    <tr style=\"text-align: right;\">\n",
       "      <th></th>\n",
       "      <th>Airline</th>\n",
       "      <th>Source</th>\n",
       "      <th>Destination</th>\n",
       "      <th>Total_Stops</th>\n",
       "      <th>Additional_Info</th>\n",
       "      <th>Price</th>\n",
       "      <th>Date</th>\n",
       "      <th>Month</th>\n",
       "      <th>Year</th>\n",
       "      <th>Route1</th>\n",
       "      <th>Route2</th>\n",
       "      <th>Route3</th>\n",
       "      <th>Dep_Hours</th>\n",
       "      <th>Dep_Minutes</th>\n",
       "      <th>Arrival_hour</th>\n",
       "      <th>Arrival_minute</th>\n",
       "      <th>Duration_Hours</th>\n",
       "      <th>Duration_Minutes</th>\n",
       "    </tr>\n",
       "  </thead>\n",
       "  <tbody>\n",
       "    <tr>\n",
       "      <th>count</th>\n",
       "      <td>10462.000000</td>\n",
       "      <td>10462.000000</td>\n",
       "      <td>10462.000000</td>\n",
       "      <td>10462.000000</td>\n",
       "      <td>10462.000000</td>\n",
       "      <td>10462.000000</td>\n",
       "      <td>10462.000000</td>\n",
       "      <td>10462.000000</td>\n",
       "      <td>10462.0</td>\n",
       "      <td>10462.000000</td>\n",
       "      <td>10462.000000</td>\n",
       "      <td>10462.000000</td>\n",
       "      <td>10462.000000</td>\n",
       "      <td>10462.000000</td>\n",
       "      <td>10462.000000</td>\n",
       "      <td>10462.000000</td>\n",
       "      <td>10462.000000</td>\n",
       "      <td>10462.000000</td>\n",
       "    </tr>\n",
       "    <tr>\n",
       "      <th>mean</th>\n",
       "      <td>3.981074</td>\n",
       "      <td>1.953642</td>\n",
       "      <td>1.439495</td>\n",
       "      <td>1.463105</td>\n",
       "      <td>7.396483</td>\n",
       "      <td>9026.790289</td>\n",
       "      <td>8.417320</td>\n",
       "      <td>1.701491</td>\n",
       "      <td>0.0</td>\n",
       "      <td>2.004970</td>\n",
       "      <td>11.784649</td>\n",
       "      <td>5.738960</td>\n",
       "      <td>12.478494</td>\n",
       "      <td>24.404989</td>\n",
       "      <td>13.387689</td>\n",
       "      <td>24.719939</td>\n",
       "      <td>10.026190</td>\n",
       "      <td>31.094437</td>\n",
       "    </tr>\n",
       "    <tr>\n",
       "      <th>std</th>\n",
       "      <td>2.364627</td>\n",
       "      <td>1.186327</td>\n",
       "      <td>1.481015</td>\n",
       "      <td>1.821371</td>\n",
       "      <td>1.212030</td>\n",
       "      <td>4624.849541</td>\n",
       "      <td>3.223474</td>\n",
       "      <td>1.163802</td>\n",
       "      <td>0.0</td>\n",
       "      <td>1.208648</td>\n",
       "      <td>7.833805</td>\n",
       "      <td>2.659753</td>\n",
       "      <td>5.727227</td>\n",
       "      <td>18.815719</td>\n",
       "      <td>6.855547</td>\n",
       "      <td>16.570450</td>\n",
       "      <td>8.378023</td>\n",
       "      <td>14.155880</td>\n",
       "    </tr>\n",
       "    <tr>\n",
       "      <th>min</th>\n",
       "      <td>0.000000</td>\n",
       "      <td>0.000000</td>\n",
       "      <td>0.000000</td>\n",
       "      <td>0.000000</td>\n",
       "      <td>0.000000</td>\n",
       "      <td>1759.000000</td>\n",
       "      <td>0.000000</td>\n",
       "      <td>0.000000</td>\n",
       "      <td>0.0</td>\n",
       "      <td>0.000000</td>\n",
       "      <td>0.000000</td>\n",
       "      <td>0.000000</td>\n",
       "      <td>0.000000</td>\n",
       "      <td>0.000000</td>\n",
       "      <td>0.000000</td>\n",
       "      <td>0.000000</td>\n",
       "      <td>0.000000</td>\n",
       "      <td>5.000000</td>\n",
       "    </tr>\n",
       "    <tr>\n",
       "      <th>25%</th>\n",
       "      <td>3.000000</td>\n",
       "      <td>2.000000</td>\n",
       "      <td>0.000000</td>\n",
       "      <td>0.000000</td>\n",
       "      <td>8.000000</td>\n",
       "      <td>5224.000000</td>\n",
       "      <td>6.000000</td>\n",
       "      <td>0.000000</td>\n",
       "      <td>0.0</td>\n",
       "      <td>1.000000</td>\n",
       "      <td>7.000000</td>\n",
       "      <td>4.000000</td>\n",
       "      <td>8.000000</td>\n",
       "      <td>5.000000</td>\n",
       "      <td>8.000000</td>\n",
       "      <td>10.000000</td>\n",
       "      <td>2.000000</td>\n",
       "      <td>20.000000</td>\n",
       "    </tr>\n",
       "    <tr>\n",
       "      <th>50%</th>\n",
       "      <td>4.000000</td>\n",
       "      <td>2.000000</td>\n",
       "      <td>1.000000</td>\n",
       "      <td>0.000000</td>\n",
       "      <td>8.000000</td>\n",
       "      <td>8266.000000</td>\n",
       "      <td>9.000000</td>\n",
       "      <td>2.000000</td>\n",
       "      <td>0.0</td>\n",
       "      <td>2.000000</td>\n",
       "      <td>7.000000</td>\n",
       "      <td>6.000000</td>\n",
       "      <td>11.000000</td>\n",
       "      <td>25.000000</td>\n",
       "      <td>14.000000</td>\n",
       "      <td>25.000000</td>\n",
       "      <td>8.000000</td>\n",
       "      <td>30.000000</td>\n",
       "    </tr>\n",
       "    <tr>\n",
       "      <th>75%</th>\n",
       "      <td>4.000000</td>\n",
       "      <td>3.000000</td>\n",
       "      <td>2.000000</td>\n",
       "      <td>4.000000</td>\n",
       "      <td>8.000000</td>\n",
       "      <td>12344.750000</td>\n",
       "      <td>11.000000</td>\n",
       "      <td>3.000000</td>\n",
       "      <td>0.0</td>\n",
       "      <td>3.000000</td>\n",
       "      <td>14.000000</td>\n",
       "      <td>6.000000</td>\n",
       "      <td>18.000000</td>\n",
       "      <td>40.000000</td>\n",
       "      <td>19.000000</td>\n",
       "      <td>35.000000</td>\n",
       "      <td>15.000000</td>\n",
       "      <td>45.000000</td>\n",
       "    </tr>\n",
       "    <tr>\n",
       "      <th>max</th>\n",
       "      <td>11.000000</td>\n",
       "      <td>4.000000</td>\n",
       "      <td>5.000000</td>\n",
       "      <td>4.000000</td>\n",
       "      <td>9.000000</td>\n",
       "      <td>79512.000000</td>\n",
       "      <td>13.000000</td>\n",
       "      <td>3.000000</td>\n",
       "      <td>0.0</td>\n",
       "      <td>4.000000</td>\n",
       "      <td>44.000000</td>\n",
       "      <td>28.000000</td>\n",
       "      <td>23.000000</td>\n",
       "      <td>55.000000</td>\n",
       "      <td>23.000000</td>\n",
       "      <td>55.000000</td>\n",
       "      <td>47.000000</td>\n",
       "      <td>55.000000</td>\n",
       "    </tr>\n",
       "  </tbody>\n",
       "</table>\n",
       "</div>"
      ],
      "text/plain": [
       "            Airline        Source   Destination   Total_Stops  \\\n",
       "count  10462.000000  10462.000000  10462.000000  10462.000000   \n",
       "mean       3.981074      1.953642      1.439495      1.463105   \n",
       "std        2.364627      1.186327      1.481015      1.821371   \n",
       "min        0.000000      0.000000      0.000000      0.000000   \n",
       "25%        3.000000      2.000000      0.000000      0.000000   \n",
       "50%        4.000000      2.000000      1.000000      0.000000   \n",
       "75%        4.000000      3.000000      2.000000      4.000000   \n",
       "max       11.000000      4.000000      5.000000      4.000000   \n",
       "\n",
       "       Additional_Info         Price          Date         Month     Year  \\\n",
       "count     10462.000000  10462.000000  10462.000000  10462.000000  10462.0   \n",
       "mean          7.396483   9026.790289      8.417320      1.701491      0.0   \n",
       "std           1.212030   4624.849541      3.223474      1.163802      0.0   \n",
       "min           0.000000   1759.000000      0.000000      0.000000      0.0   \n",
       "25%           8.000000   5224.000000      6.000000      0.000000      0.0   \n",
       "50%           8.000000   8266.000000      9.000000      2.000000      0.0   \n",
       "75%           8.000000  12344.750000     11.000000      3.000000      0.0   \n",
       "max           9.000000  79512.000000     13.000000      3.000000      0.0   \n",
       "\n",
       "             Route1        Route2        Route3     Dep_Hours   Dep_Minutes  \\\n",
       "count  10462.000000  10462.000000  10462.000000  10462.000000  10462.000000   \n",
       "mean       2.004970     11.784649      5.738960     12.478494     24.404989   \n",
       "std        1.208648      7.833805      2.659753      5.727227     18.815719   \n",
       "min        0.000000      0.000000      0.000000      0.000000      0.000000   \n",
       "25%        1.000000      7.000000      4.000000      8.000000      5.000000   \n",
       "50%        2.000000      7.000000      6.000000     11.000000     25.000000   \n",
       "75%        3.000000     14.000000      6.000000     18.000000     40.000000   \n",
       "max        4.000000     44.000000     28.000000     23.000000     55.000000   \n",
       "\n",
       "       Arrival_hour  Arrival_minute  Duration_Hours  Duration_Minutes  \n",
       "count  10462.000000    10462.000000    10462.000000      10462.000000  \n",
       "mean      13.387689       24.719939       10.026190         31.094437  \n",
       "std        6.855547       16.570450        8.378023         14.155880  \n",
       "min        0.000000        0.000000        0.000000          5.000000  \n",
       "25%        8.000000       10.000000        2.000000         20.000000  \n",
       "50%       14.000000       25.000000        8.000000         30.000000  \n",
       "75%       19.000000       35.000000       15.000000         45.000000  \n",
       "max       23.000000       55.000000       47.000000         55.000000  "
      ]
     },
     "execution_count": 88,
     "metadata": {},
     "output_type": "execute_result"
    }
   ],
   "source": [
    "Train_data.describe()"
   ]
  },
  {
   "cell_type": "code",
   "execution_count": 89,
   "id": "4bf5bcdc",
   "metadata": {
    "scrolled": true
   },
   "outputs": [
    {
     "data": {
      "text/html": [
       "<div>\n",
       "<style scoped>\n",
       "    .dataframe tbody tr th:only-of-type {\n",
       "        vertical-align: middle;\n",
       "    }\n",
       "\n",
       "    .dataframe tbody tr th {\n",
       "        vertical-align: top;\n",
       "    }\n",
       "\n",
       "    .dataframe thead th {\n",
       "        text-align: right;\n",
       "    }\n",
       "</style>\n",
       "<table border=\"1\" class=\"dataframe\">\n",
       "  <thead>\n",
       "    <tr style=\"text-align: right;\">\n",
       "      <th></th>\n",
       "      <th>Airline</th>\n",
       "      <th>Source</th>\n",
       "      <th>Destination</th>\n",
       "      <th>Total_Stops</th>\n",
       "      <th>Additional_Info</th>\n",
       "      <th>Price</th>\n",
       "      <th>Date</th>\n",
       "      <th>Month</th>\n",
       "      <th>Year</th>\n",
       "      <th>Route1</th>\n",
       "      <th>Route2</th>\n",
       "      <th>Route3</th>\n",
       "      <th>Dep_Hours</th>\n",
       "      <th>Dep_Minutes</th>\n",
       "      <th>Arrival_hour</th>\n",
       "      <th>Arrival_minute</th>\n",
       "      <th>Duration_Hours</th>\n",
       "      <th>Duration_Minutes</th>\n",
       "    </tr>\n",
       "  </thead>\n",
       "  <tbody>\n",
       "    <tr>\n",
       "      <th>Airline</th>\n",
       "      <td>1.000000</td>\n",
       "      <td>-0.012172</td>\n",
       "      <td>0.015942</td>\n",
       "      <td>0.034396</td>\n",
       "      <td>-0.058220</td>\n",
       "      <td>-0.036491</td>\n",
       "      <td>0.025755</td>\n",
       "      <td>0.026083</td>\n",
       "      <td>NaN</td>\n",
       "      <td>0.039836</td>\n",
       "      <td>-0.063741</td>\n",
       "      <td>-0.089960</td>\n",
       "      <td>-0.032267</td>\n",
       "      <td>-0.062421</td>\n",
       "      <td>-0.005438</td>\n",
       "      <td>-0.073045</td>\n",
       "      <td>-0.151962</td>\n",
       "      <td>-0.028782</td>\n",
       "    </tr>\n",
       "    <tr>\n",
       "      <th>Source</th>\n",
       "      <td>-0.012172</td>\n",
       "      <td>1.000000</td>\n",
       "      <td>-0.589992</td>\n",
       "      <td>-0.222859</td>\n",
       "      <td>-0.021587</td>\n",
       "      <td>0.013796</td>\n",
       "      <td>0.186842</td>\n",
       "      <td>0.181072</td>\n",
       "      <td>NaN</td>\n",
       "      <td>0.437508</td>\n",
       "      <td>0.036686</td>\n",
       "      <td>-0.224964</td>\n",
       "      <td>0.060218</td>\n",
       "      <td>-0.056609</td>\n",
       "      <td>0.028257</td>\n",
       "      <td>0.021392</td>\n",
       "      <td>0.167051</td>\n",
       "      <td>-0.237278</td>\n",
       "    </tr>\n",
       "    <tr>\n",
       "      <th>Destination</th>\n",
       "      <td>0.015942</td>\n",
       "      <td>-0.589992</td>\n",
       "      <td>1.000000</td>\n",
       "      <td>0.334097</td>\n",
       "      <td>0.024922</td>\n",
       "      <td>-0.065875</td>\n",
       "      <td>-0.291621</td>\n",
       "      <td>-0.362186</td>\n",
       "      <td>NaN</td>\n",
       "      <td>-0.479180</td>\n",
       "      <td>0.084999</td>\n",
       "      <td>0.344581</td>\n",
       "      <td>-0.074056</td>\n",
       "      <td>0.128523</td>\n",
       "      <td>-0.044605</td>\n",
       "      <td>0.016351</td>\n",
       "      <td>-0.255273</td>\n",
       "      <td>0.059539</td>\n",
       "    </tr>\n",
       "    <tr>\n",
       "      <th>Total_Stops</th>\n",
       "      <td>0.034396</td>\n",
       "      <td>-0.222859</td>\n",
       "      <td>0.334097</td>\n",
       "      <td>1.000000</td>\n",
       "      <td>0.164639</td>\n",
       "      <td>-0.571991</td>\n",
       "      <td>-0.034467</td>\n",
       "      <td>-0.021409</td>\n",
       "      <td>NaN</td>\n",
       "      <td>-0.442580</td>\n",
       "      <td>0.040194</td>\n",
       "      <td>0.113399</td>\n",
       "      <td>0.040310</td>\n",
       "      <td>0.049338</td>\n",
       "      <td>-0.099351</td>\n",
       "      <td>0.176743</td>\n",
       "      <td>-0.613582</td>\n",
       "      <td>0.186927</td>\n",
       "    </tr>\n",
       "    <tr>\n",
       "      <th>Additional_Info</th>\n",
       "      <td>-0.058220</td>\n",
       "      <td>-0.021587</td>\n",
       "      <td>0.024922</td>\n",
       "      <td>0.164639</td>\n",
       "      <td>1.000000</td>\n",
       "      <td>-0.068779</td>\n",
       "      <td>0.018741</td>\n",
       "      <td>-0.049186</td>\n",
       "      <td>NaN</td>\n",
       "      <td>0.020189</td>\n",
       "      <td>0.096554</td>\n",
       "      <td>0.099777</td>\n",
       "      <td>-0.059406</td>\n",
       "      <td>-0.015916</td>\n",
       "      <td>0.021293</td>\n",
       "      <td>0.044321</td>\n",
       "      <td>-0.171039</td>\n",
       "      <td>0.048307</td>\n",
       "    </tr>\n",
       "    <tr>\n",
       "      <th>Price</th>\n",
       "      <td>-0.036491</td>\n",
       "      <td>0.013796</td>\n",
       "      <td>-0.065875</td>\n",
       "      <td>-0.571991</td>\n",
       "      <td>-0.068779</td>\n",
       "      <td>1.000000</td>\n",
       "      <td>-0.073780</td>\n",
       "      <td>-0.113396</td>\n",
       "      <td>NaN</td>\n",
       "      <td>0.173508</td>\n",
       "      <td>-0.098391</td>\n",
       "      <td>-0.016138</td>\n",
       "      <td>0.005155</td>\n",
       "      <td>-0.024155</td>\n",
       "      <td>0.031023</td>\n",
       "      <td>-0.086163</td>\n",
       "      <td>0.504200</td>\n",
       "      <td>-0.120346</td>\n",
       "    </tr>\n",
       "    <tr>\n",
       "      <th>Date</th>\n",
       "      <td>0.025755</td>\n",
       "      <td>0.186842</td>\n",
       "      <td>-0.291621</td>\n",
       "      <td>-0.034467</td>\n",
       "      <td>0.018741</td>\n",
       "      <td>-0.073780</td>\n",
       "      <td>1.000000</td>\n",
       "      <td>0.115311</td>\n",
       "      <td>NaN</td>\n",
       "      <td>0.274491</td>\n",
       "      <td>0.004873</td>\n",
       "      <td>-0.061170</td>\n",
       "      <td>-0.006545</td>\n",
       "      <td>-0.052093</td>\n",
       "      <td>-0.008057</td>\n",
       "      <td>-0.025292</td>\n",
       "      <td>0.018603</td>\n",
       "      <td>-0.038553</td>\n",
       "    </tr>\n",
       "    <tr>\n",
       "      <th>Month</th>\n",
       "      <td>0.026083</td>\n",
       "      <td>0.181072</td>\n",
       "      <td>-0.362186</td>\n",
       "      <td>-0.021409</td>\n",
       "      <td>-0.049186</td>\n",
       "      <td>-0.113396</td>\n",
       "      <td>0.115311</td>\n",
       "      <td>1.000000</td>\n",
       "      <td>NaN</td>\n",
       "      <td>0.224097</td>\n",
       "      <td>0.037930</td>\n",
       "      <td>-0.205867</td>\n",
       "      <td>0.040406</td>\n",
       "      <td>-0.062636</td>\n",
       "      <td>0.001423</td>\n",
       "      <td>-0.099261</td>\n",
       "      <td>0.006410</td>\n",
       "      <td>-0.018406</td>\n",
       "    </tr>\n",
       "    <tr>\n",
       "      <th>Year</th>\n",
       "      <td>NaN</td>\n",
       "      <td>NaN</td>\n",
       "      <td>NaN</td>\n",
       "      <td>NaN</td>\n",
       "      <td>NaN</td>\n",
       "      <td>NaN</td>\n",
       "      <td>NaN</td>\n",
       "      <td>NaN</td>\n",
       "      <td>NaN</td>\n",
       "      <td>NaN</td>\n",
       "      <td>NaN</td>\n",
       "      <td>NaN</td>\n",
       "      <td>NaN</td>\n",
       "      <td>NaN</td>\n",
       "      <td>NaN</td>\n",
       "      <td>NaN</td>\n",
       "      <td>NaN</td>\n",
       "      <td>NaN</td>\n",
       "    </tr>\n",
       "    <tr>\n",
       "      <th>Route1</th>\n",
       "      <td>0.039836</td>\n",
       "      <td>0.437508</td>\n",
       "      <td>-0.479180</td>\n",
       "      <td>-0.442580</td>\n",
       "      <td>0.020189</td>\n",
       "      <td>0.173508</td>\n",
       "      <td>0.274491</td>\n",
       "      <td>0.224097</td>\n",
       "      <td>NaN</td>\n",
       "      <td>1.000000</td>\n",
       "      <td>-0.098768</td>\n",
       "      <td>-0.119493</td>\n",
       "      <td>-0.047462</td>\n",
       "      <td>-0.074881</td>\n",
       "      <td>0.021514</td>\n",
       "      <td>-0.172785</td>\n",
       "      <td>0.283602</td>\n",
       "      <td>-0.300543</td>\n",
       "    </tr>\n",
       "    <tr>\n",
       "      <th>Route2</th>\n",
       "      <td>-0.063741</td>\n",
       "      <td>0.036686</td>\n",
       "      <td>0.084999</td>\n",
       "      <td>0.040194</td>\n",
       "      <td>0.096554</td>\n",
       "      <td>-0.098391</td>\n",
       "      <td>0.004873</td>\n",
       "      <td>0.037930</td>\n",
       "      <td>NaN</td>\n",
       "      <td>-0.098768</td>\n",
       "      <td>1.000000</td>\n",
       "      <td>0.071139</td>\n",
       "      <td>-0.106472</td>\n",
       "      <td>0.083012</td>\n",
       "      <td>0.000592</td>\n",
       "      <td>0.043878</td>\n",
       "      <td>0.020765</td>\n",
       "      <td>0.026542</td>\n",
       "    </tr>\n",
       "    <tr>\n",
       "      <th>Route3</th>\n",
       "      <td>-0.089960</td>\n",
       "      <td>-0.224964</td>\n",
       "      <td>0.344581</td>\n",
       "      <td>0.113399</td>\n",
       "      <td>0.099777</td>\n",
       "      <td>-0.016138</td>\n",
       "      <td>-0.061170</td>\n",
       "      <td>-0.205867</td>\n",
       "      <td>NaN</td>\n",
       "      <td>-0.119493</td>\n",
       "      <td>0.071139</td>\n",
       "      <td>1.000000</td>\n",
       "      <td>-0.130090</td>\n",
       "      <td>0.053570</td>\n",
       "      <td>-0.007152</td>\n",
       "      <td>0.004392</td>\n",
       "      <td>-0.028487</td>\n",
       "      <td>-0.008787</td>\n",
       "    </tr>\n",
       "    <tr>\n",
       "      <th>Dep_Hours</th>\n",
       "      <td>-0.032267</td>\n",
       "      <td>0.060218</td>\n",
       "      <td>-0.074056</td>\n",
       "      <td>0.040310</td>\n",
       "      <td>-0.059406</td>\n",
       "      <td>0.005155</td>\n",
       "      <td>-0.006545</td>\n",
       "      <td>0.040406</td>\n",
       "      <td>NaN</td>\n",
       "      <td>-0.047462</td>\n",
       "      <td>-0.106472</td>\n",
       "      <td>-0.130090</td>\n",
       "      <td>1.000000</td>\n",
       "      <td>-0.015068</td>\n",
       "      <td>-0.003827</td>\n",
       "      <td>0.072989</td>\n",
       "      <td>-0.000648</td>\n",
       "      <td>-0.022749</td>\n",
       "    </tr>\n",
       "    <tr>\n",
       "      <th>Dep_Minutes</th>\n",
       "      <td>-0.062421</td>\n",
       "      <td>-0.056609</td>\n",
       "      <td>0.128523</td>\n",
       "      <td>0.049338</td>\n",
       "      <td>-0.015916</td>\n",
       "      <td>-0.024155</td>\n",
       "      <td>-0.052093</td>\n",
       "      <td>-0.062636</td>\n",
       "      <td>NaN</td>\n",
       "      <td>-0.074881</td>\n",
       "      <td>0.083012</td>\n",
       "      <td>0.053570</td>\n",
       "      <td>-0.015068</td>\n",
       "      <td>1.000000</td>\n",
       "      <td>0.046564</td>\n",
       "      <td>-0.021353</td>\n",
       "      <td>-0.022147</td>\n",
       "      <td>0.031982</td>\n",
       "    </tr>\n",
       "    <tr>\n",
       "      <th>Arrival_hour</th>\n",
       "      <td>-0.005438</td>\n",
       "      <td>0.028257</td>\n",
       "      <td>-0.044605</td>\n",
       "      <td>-0.099351</td>\n",
       "      <td>0.021293</td>\n",
       "      <td>0.031023</td>\n",
       "      <td>-0.008057</td>\n",
       "      <td>0.001423</td>\n",
       "      <td>NaN</td>\n",
       "      <td>0.021514</td>\n",
       "      <td>0.000592</td>\n",
       "      <td>-0.007152</td>\n",
       "      <td>-0.003827</td>\n",
       "      <td>0.046564</td>\n",
       "      <td>1.000000</td>\n",
       "      <td>-0.152036</td>\n",
       "      <td>0.065586</td>\n",
       "      <td>-0.072305</td>\n",
       "    </tr>\n",
       "    <tr>\n",
       "      <th>Arrival_minute</th>\n",
       "      <td>-0.073045</td>\n",
       "      <td>0.021392</td>\n",
       "      <td>0.016351</td>\n",
       "      <td>0.176743</td>\n",
       "      <td>0.044321</td>\n",
       "      <td>-0.086163</td>\n",
       "      <td>-0.025292</td>\n",
       "      <td>-0.099261</td>\n",
       "      <td>NaN</td>\n",
       "      <td>-0.172785</td>\n",
       "      <td>0.043878</td>\n",
       "      <td>0.004392</td>\n",
       "      <td>0.072989</td>\n",
       "      <td>-0.021353</td>\n",
       "      <td>-0.152036</td>\n",
       "      <td>1.000000</td>\n",
       "      <td>-0.075942</td>\n",
       "      <td>0.097850</td>\n",
       "    </tr>\n",
       "    <tr>\n",
       "      <th>Duration_Hours</th>\n",
       "      <td>-0.151962</td>\n",
       "      <td>0.167051</td>\n",
       "      <td>-0.255273</td>\n",
       "      <td>-0.613582</td>\n",
       "      <td>-0.171039</td>\n",
       "      <td>0.504200</td>\n",
       "      <td>0.018603</td>\n",
       "      <td>0.006410</td>\n",
       "      <td>NaN</td>\n",
       "      <td>0.283602</td>\n",
       "      <td>0.020765</td>\n",
       "      <td>-0.028487</td>\n",
       "      <td>-0.000648</td>\n",
       "      <td>-0.022147</td>\n",
       "      <td>0.065586</td>\n",
       "      <td>-0.075942</td>\n",
       "      <td>1.000000</td>\n",
       "      <td>-0.133969</td>\n",
       "    </tr>\n",
       "    <tr>\n",
       "      <th>Duration_Minutes</th>\n",
       "      <td>-0.028782</td>\n",
       "      <td>-0.237278</td>\n",
       "      <td>0.059539</td>\n",
       "      <td>0.186927</td>\n",
       "      <td>0.048307</td>\n",
       "      <td>-0.120346</td>\n",
       "      <td>-0.038553</td>\n",
       "      <td>-0.018406</td>\n",
       "      <td>NaN</td>\n",
       "      <td>-0.300543</td>\n",
       "      <td>0.026542</td>\n",
       "      <td>-0.008787</td>\n",
       "      <td>-0.022749</td>\n",
       "      <td>0.031982</td>\n",
       "      <td>-0.072305</td>\n",
       "      <td>0.097850</td>\n",
       "      <td>-0.133969</td>\n",
       "      <td>1.000000</td>\n",
       "    </tr>\n",
       "  </tbody>\n",
       "</table>\n",
       "</div>"
      ],
      "text/plain": [
       "                   Airline    Source  Destination  Total_Stops  \\\n",
       "Airline           1.000000 -0.012172     0.015942     0.034396   \n",
       "Source           -0.012172  1.000000    -0.589992    -0.222859   \n",
       "Destination       0.015942 -0.589992     1.000000     0.334097   \n",
       "Total_Stops       0.034396 -0.222859     0.334097     1.000000   \n",
       "Additional_Info  -0.058220 -0.021587     0.024922     0.164639   \n",
       "Price            -0.036491  0.013796    -0.065875    -0.571991   \n",
       "Date              0.025755  0.186842    -0.291621    -0.034467   \n",
       "Month             0.026083  0.181072    -0.362186    -0.021409   \n",
       "Year                   NaN       NaN          NaN          NaN   \n",
       "Route1            0.039836  0.437508    -0.479180    -0.442580   \n",
       "Route2           -0.063741  0.036686     0.084999     0.040194   \n",
       "Route3           -0.089960 -0.224964     0.344581     0.113399   \n",
       "Dep_Hours        -0.032267  0.060218    -0.074056     0.040310   \n",
       "Dep_Minutes      -0.062421 -0.056609     0.128523     0.049338   \n",
       "Arrival_hour     -0.005438  0.028257    -0.044605    -0.099351   \n",
       "Arrival_minute   -0.073045  0.021392     0.016351     0.176743   \n",
       "Duration_Hours   -0.151962  0.167051    -0.255273    -0.613582   \n",
       "Duration_Minutes -0.028782 -0.237278     0.059539     0.186927   \n",
       "\n",
       "                  Additional_Info     Price      Date     Month  Year  \\\n",
       "Airline                 -0.058220 -0.036491  0.025755  0.026083   NaN   \n",
       "Source                  -0.021587  0.013796  0.186842  0.181072   NaN   \n",
       "Destination              0.024922 -0.065875 -0.291621 -0.362186   NaN   \n",
       "Total_Stops              0.164639 -0.571991 -0.034467 -0.021409   NaN   \n",
       "Additional_Info          1.000000 -0.068779  0.018741 -0.049186   NaN   \n",
       "Price                   -0.068779  1.000000 -0.073780 -0.113396   NaN   \n",
       "Date                     0.018741 -0.073780  1.000000  0.115311   NaN   \n",
       "Month                   -0.049186 -0.113396  0.115311  1.000000   NaN   \n",
       "Year                          NaN       NaN       NaN       NaN   NaN   \n",
       "Route1                   0.020189  0.173508  0.274491  0.224097   NaN   \n",
       "Route2                   0.096554 -0.098391  0.004873  0.037930   NaN   \n",
       "Route3                   0.099777 -0.016138 -0.061170 -0.205867   NaN   \n",
       "Dep_Hours               -0.059406  0.005155 -0.006545  0.040406   NaN   \n",
       "Dep_Minutes             -0.015916 -0.024155 -0.052093 -0.062636   NaN   \n",
       "Arrival_hour             0.021293  0.031023 -0.008057  0.001423   NaN   \n",
       "Arrival_minute           0.044321 -0.086163 -0.025292 -0.099261   NaN   \n",
       "Duration_Hours          -0.171039  0.504200  0.018603  0.006410   NaN   \n",
       "Duration_Minutes         0.048307 -0.120346 -0.038553 -0.018406   NaN   \n",
       "\n",
       "                    Route1    Route2    Route3  Dep_Hours  Dep_Minutes  \\\n",
       "Airline           0.039836 -0.063741 -0.089960  -0.032267    -0.062421   \n",
       "Source            0.437508  0.036686 -0.224964   0.060218    -0.056609   \n",
       "Destination      -0.479180  0.084999  0.344581  -0.074056     0.128523   \n",
       "Total_Stops      -0.442580  0.040194  0.113399   0.040310     0.049338   \n",
       "Additional_Info   0.020189  0.096554  0.099777  -0.059406    -0.015916   \n",
       "Price             0.173508 -0.098391 -0.016138   0.005155    -0.024155   \n",
       "Date              0.274491  0.004873 -0.061170  -0.006545    -0.052093   \n",
       "Month             0.224097  0.037930 -0.205867   0.040406    -0.062636   \n",
       "Year                   NaN       NaN       NaN        NaN          NaN   \n",
       "Route1            1.000000 -0.098768 -0.119493  -0.047462    -0.074881   \n",
       "Route2           -0.098768  1.000000  0.071139  -0.106472     0.083012   \n",
       "Route3           -0.119493  0.071139  1.000000  -0.130090     0.053570   \n",
       "Dep_Hours        -0.047462 -0.106472 -0.130090   1.000000    -0.015068   \n",
       "Dep_Minutes      -0.074881  0.083012  0.053570  -0.015068     1.000000   \n",
       "Arrival_hour      0.021514  0.000592 -0.007152  -0.003827     0.046564   \n",
       "Arrival_minute   -0.172785  0.043878  0.004392   0.072989    -0.021353   \n",
       "Duration_Hours    0.283602  0.020765 -0.028487  -0.000648    -0.022147   \n",
       "Duration_Minutes -0.300543  0.026542 -0.008787  -0.022749     0.031982   \n",
       "\n",
       "                  Arrival_hour  Arrival_minute  Duration_Hours  \\\n",
       "Airline              -0.005438       -0.073045       -0.151962   \n",
       "Source                0.028257        0.021392        0.167051   \n",
       "Destination          -0.044605        0.016351       -0.255273   \n",
       "Total_Stops          -0.099351        0.176743       -0.613582   \n",
       "Additional_Info       0.021293        0.044321       -0.171039   \n",
       "Price                 0.031023       -0.086163        0.504200   \n",
       "Date                 -0.008057       -0.025292        0.018603   \n",
       "Month                 0.001423       -0.099261        0.006410   \n",
       "Year                       NaN             NaN             NaN   \n",
       "Route1                0.021514       -0.172785        0.283602   \n",
       "Route2                0.000592        0.043878        0.020765   \n",
       "Route3               -0.007152        0.004392       -0.028487   \n",
       "Dep_Hours            -0.003827        0.072989       -0.000648   \n",
       "Dep_Minutes           0.046564       -0.021353       -0.022147   \n",
       "Arrival_hour          1.000000       -0.152036        0.065586   \n",
       "Arrival_minute       -0.152036        1.000000       -0.075942   \n",
       "Duration_Hours        0.065586       -0.075942        1.000000   \n",
       "Duration_Minutes     -0.072305        0.097850       -0.133969   \n",
       "\n",
       "                  Duration_Minutes  \n",
       "Airline                  -0.028782  \n",
       "Source                   -0.237278  \n",
       "Destination               0.059539  \n",
       "Total_Stops               0.186927  \n",
       "Additional_Info           0.048307  \n",
       "Price                    -0.120346  \n",
       "Date                     -0.038553  \n",
       "Month                    -0.018406  \n",
       "Year                           NaN  \n",
       "Route1                   -0.300543  \n",
       "Route2                    0.026542  \n",
       "Route3                   -0.008787  \n",
       "Dep_Hours                -0.022749  \n",
       "Dep_Minutes               0.031982  \n",
       "Arrival_hour             -0.072305  \n",
       "Arrival_minute            0.097850  \n",
       "Duration_Hours           -0.133969  \n",
       "Duration_Minutes          1.000000  "
      ]
     },
     "execution_count": 89,
     "metadata": {},
     "output_type": "execute_result"
    }
   ],
   "source": [
    "#checking correlation\n",
    "Train_data.corr()"
   ]
  },
  {
   "cell_type": "code",
   "execution_count": 90,
   "id": "08f2fdec",
   "metadata": {},
   "outputs": [
    {
     "data": {
      "image/png": "[encoded data removed]",
      "text/plain": [
       "<Figure size 1800x1440 with 2 Axes>"
      ]
     },
     "metadata": {
      "needs_background": "light"
     },
     "output_type": "display_data"
    }
   ],
   "source": [
    "#Checking of correlation of features with each other with heatmap\n",
    "plt.figure(figsize=(25,20))\n",
    "sns.heatmap(Train_data.corr(),cmap='PuBu',annot=True)\n",
    "plt.show()"
   ]
  },
  {
   "cell_type": "code",
   "execution_count": 91,
   "id": "0a5e42c8",
   "metadata": {},
   "outputs": [],
   "source": [
    "# Source as positive raltionship with route1\n",
    "# Price as positive reltionship with  Duaration, & route 1"
   ]
  },
  {
   "cell_type": "code",
   "execution_count": 92,
   "id": "f4b65083",
   "metadata": {},
   "outputs": [
    {
     "data": {
      "image/png": "[encoded data removed]",
      "text/plain": [
       "<Figure size 1440x576 with 1 Axes>"
      ]
     },
     "metadata": {
      "needs_background": "light"
     },
     "output_type": "display_data"
    }
   ],
   "source": [
    "#Correlation with Price with respect to attributes\n",
    "Train_data.corrwith(Train_data.Price).plot.bar(figsize = (20, 8), \n",
    "                                   title = \"Correlation with Price Graph\", fontsize = 12,rot = 30, grid = True)\n",
    "plt.show()"
   ]
  },
  {
   "cell_type": "code",
   "execution_count": 93,
   "id": "1ab16c52",
   "metadata": {},
   "outputs": [],
   "source": [
    "# Price as positive corelationship with  Duaration, & route 1\n",
    "# Price as  highly negative corelationship with Total_stops"
   ]
  },
  {
   "cell_type": "code",
   "execution_count": 94,
   "id": "776b85d4",
   "metadata": {},
   "outputs": [
    {
     "name": "stdout",
     "output_type": "stream",
     "text": [
      "<class 'pandas.core.frame.DataFrame'>\n",
      "Int64Index: 10462 entries, 0 to 10682\n",
      "Data columns (total 18 columns):\n",
      " #   Column            Non-Null Count  Dtype\n",
      "---  ------            --------------  -----\n",
      " 0   Airline           10462 non-null  int32\n",
      " 1   Source            10462 non-null  int32\n",
      " 2   Destination       10462 non-null  int32\n",
      " 3   Total_Stops       10462 non-null  int32\n",
      " 4   Additional_Info   10462 non-null  int32\n",
      " 5   Price             10462 non-null  int64\n",
      " 6   Date              10462 non-null  int32\n",
      " 7   Month             10462 non-null  int32\n",
      " 8   Year              10462 non-null  int32\n",
      " 9   Route1            10462 non-null  int32\n",
      " 10  Route2            10462 non-null  int32\n",
      " 11  Route3            10462 non-null  int32\n",
      " 12  Dep_Hours         10462 non-null  int32\n",
      " 13  Dep_Minutes       10462 non-null  int32\n",
      " 14  Arrival_hour      10462 non-null  int32\n",
      " 15  Arrival_minute    10462 non-null  int32\n",
      " 16  Duration_Hours    10462 non-null  int32\n",
      " 17  Duration_Minutes  10462 non-null  int32\n",
      "dtypes: int32(17), int64(1)\n",
      "memory usage: 858.2 KB\n"
     ]
    }
   ],
   "source": [
    "Train_data.info()"
   ]
  },
  {
   "cell_type": "code",
   "execution_count": 95,
   "id": "571592dd",
   "metadata": {},
   "outputs": [
    {
     "data": {
      "image/png": "[encoded data removed]",
      "text/plain": [
       "<Figure size 1080x936 with 18 Axes>"
      ]
     },
     "metadata": {},
     "output_type": "display_data"
    }
   ],
   "source": [
    "# Chekcing Outlier and skeweness\n",
    "# let's see how data is distributed for every column\n",
    "plt.figure(figsize=(15,13), facecolor='white')\n",
    "plotnumber = 1\n",
    "\n",
    "for column in Train_data:\n",
    "    if plotnumber<=18 :     # as there are 18 columns in the data\n",
    "        ax = plt.subplot(3,6,plotnumber)\n",
    "        sns.boxplot(Train_data[column])\n",
    "        plt.xlabel(column,fontsize=15)\n",
    "    plotnumber+=1\n",
    "plt.show()"
   ]
  },
  {
   "cell_type": "code",
   "execution_count": 96,
   "id": "2f6a4c5a",
   "metadata": {},
   "outputs": [],
   "source": [
    "# Because of all object dtype we ignore skewness"
   ]
  },
  {
   "cell_type": "code",
   "execution_count": 97,
   "id": "e63f746a",
   "metadata": {},
   "outputs": [],
   "source": [
    "# Spliting dataset into features and label \n",
    "x = Train_data.drop([\"Price\"], axis=1)\n",
    "y = Train_data[\"Price\"]"
   ]
  },
  {
   "cell_type": "code",
   "execution_count": 98,
   "id": "5c690ddc",
   "metadata": {},
   "outputs": [],
   "source": [
    "from sklearn.preprocessing import StandardScaler\n",
    "scaler = StandardScaler()\n",
    "X_scaler = scaler.fit_transform(x)"
   ]
  },
  {
   "cell_type": "code",
   "execution_count": 99,
   "id": "7d0b2ce4",
   "metadata": {},
   "outputs": [
    {
     "name": "stdout",
     "output_type": "stream",
     "text": [
      "Best accuracy is 0.45656090925827997  on Random_state  123\n"
     ]
    }
   ],
   "source": [
    "# To find the best random state using Linear Regressor model\n",
    "from sklearn.model_selection import train_test_split\n",
    "from sklearn.linear_model import LinearRegression\n",
    "from sklearn.metrics import r2_score\n",
    "maxAccu=0\n",
    "maxRS=0\n",
    "\n",
    "maxR2_Score=0\n",
    "maxRS=0\n",
    "for i in range(1,200):\n",
    "    x_train,x_test,y_train,y_test = train_test_split(X_scaler,y,test_size=.30,random_state=i)\n",
    "    LR = LinearRegression()\n",
    "    LR.fit(x_train, y_train)\n",
    "    predrf = LR.predict(x_test)\n",
    "    score = r2_score(y_test, predrf)\n",
    "    if score>maxR2_Score:\n",
    "        maxR2_Score=score\n",
    "        maxRS=i\n",
    "print(\"Best accuracy is\",maxR2_Score,\" on Random_state \",maxRS)"
   ]
  },
  {
   "cell_type": "code",
   "execution_count": 100,
   "id": "1db95734",
   "metadata": {},
   "outputs": [],
   "source": [
    "x_train,x_test,y_train,y_test=train_test_split(X_scaler,y,test_size=.30,random_state=maxRS)"
   ]
  },
  {
   "cell_type": "code",
   "execution_count": 101,
   "id": "d030e2ed",
   "metadata": {},
   "outputs": [],
   "source": [
    "#import models\n",
    "from sklearn.ensemble import RandomForestRegressor\n",
    "from sklearn.tree import DecisionTreeRegressor\n",
    "from sklearn.neighbors import KNeighborsRegressor\n",
    "from sklearn.ensemble import GradientBoostingRegressor\n",
    "from sklearn.ensemble import AdaBoostRegressor\n",
    "from sklearn.linear_model import Ridge\n",
    "from sklearn.svm import SVR\n",
    "from sklearn.model_selection import cross_val_score\n",
    "from sklearn.metrics import mean_absolute_error, mean_squared_error"
   ]
  },
  {
   "cell_type": "code",
   "execution_count": 102,
   "id": "d8faf5c3",
   "metadata": {},
   "outputs": [],
   "source": [
    "model=[LinearRegression(),RandomForestRegressor(),DecisionTreeRegressor(),KNeighborsRegressor(),GradientBoostingRegressor(),Ridge(),SVR(),AdaBoostRegressor()]"
   ]
  },
  {
   "cell_type": "code",
   "execution_count": 103,
   "id": "de03e64c",
   "metadata": {},
   "outputs": [
    {
     "name": "stdout",
     "output_type": "stream",
     "text": [
      "*******************************************************************************\n",
      "accuracy score of -> LinearRegression()\n",
      "R2 Score:                 0.45656090925827997\n",
      "Mean Absolute Error:      2413.793915533187\n",
      "Mean Squared error:       10285883.687606832\n",
      "Root Mean Squared Error:  3207.16131300046\n",
      "[0.41871536 0.41519936 0.41835554 0.39652168 0.39192025]\n",
      "cross validation score:   0.40814244040674186\n",
      "Difference between R2 score and cross validatio score is ->  0.04841846885153811\n",
      "--------------------------------**********************--------------------------------------\n",
      "*******************************************************************************\n",
      "accuracy score of -> RandomForestRegressor()\n",
      "R2 Score:                 0.899122387569872\n",
      "Mean Absolute Error:      654.7708379083927\n",
      "Mean Squared error:       1909349.9268217434\n",
      "Root Mean Squared Error:  1381.7922878717131\n",
      "[0.88228777 0.89110078 0.87115833 0.88360105 0.86142616]\n",
      "cross validation score:   0.8779148178519453\n",
      "Difference between R2 score and cross validatio score is ->  0.0212075697179267\n",
      "--------------------------------**********************--------------------------------------\n",
      "*******************************************************************************\n",
      "accuracy score of -> DecisionTreeRegressor()\n",
      "R2 Score:                 0.8075870195210553\n",
      "Mean Absolute Error:      731.2416374641606\n",
      "Mean Squared error:       3641875.5494584264\n",
      "Root Mean Squared Error:  1908.3698670484257\n",
      "[0.73355387 0.83812545 0.81264886 0.82270126 0.82918383]\n",
      "cross validation score:   0.8072426562296939\n",
      "Difference between R2 score and cross validatio score is ->  0.00034436329136133814\n",
      "--------------------------------**********************--------------------------------------\n",
      "*******************************************************************************\n",
      "accuracy score of -> KNeighborsRegressor()\n",
      "R2 Score:                 0.7781386360980502\n",
      "Mean Absolute Error:      1208.262185409366\n",
      "Mean Squared error:       4199256.5914877355\n",
      "Root Mean Squared Error:  2049.2087720600202\n",
      "[0.64132663 0.63555137 0.6455447  0.6664583  0.63803514]\n",
      "cross validation score:   0.645383226717764\n",
      "Difference between R2 score and cross validatio score is ->  0.13275540938028618\n",
      "--------------------------------**********************--------------------------------------\n",
      "*******************************************************************************\n",
      "accuracy score of -> GradientBoostingRegressor()\n",
      "R2 Score:                 0.8234763357221533\n",
      "Mean Absolute Error:      1242.8293777582833\n",
      "Mean Squared error:       3341132.2626679353\n",
      "Root Mean Squared Error:  1827.876435284381\n",
      "[0.79056391 0.81080774 0.82961572 0.81061329 0.82767709]\n",
      "cross validation score:   0.8138555499223766\n",
      "Difference between R2 score and cross validatio score is ->  0.009620785799776654\n",
      "--------------------------------**********************--------------------------------------\n",
      "*******************************************************************************\n",
      "accuracy score of -> Ridge()\n",
      "R2 Score:                 0.4565610418191267\n",
      "Mean Absolute Error:      2413.8017311776002\n",
      "Mean Squared error:       10285881.178575968\n",
      "Root Mean Squared Error:  3207.1609218397457\n",
      "[0.41871423 0.41519894 0.41835539 0.39652274 0.39192176]\n",
      "cross validation score:   0.4081426107166723\n",
      "Difference between R2 score and cross validatio score is ->  0.04841843110245442\n",
      "--------------------------------**********************--------------------------------------\n",
      "*******************************************************************************\n",
      "accuracy score of -> SVR()\n",
      "R2 Score:                 0.027639875738062925\n",
      "Mean Absolute Error:      3406.4361595683704\n",
      "Mean Squared error:       18404239.42814717\n",
      "Root Mean Squared Error:  4290.016250336025\n",
      "[-0.00239136 -0.01302776  0.00785551  0.0197122   0.00818216]\n",
      "cross validation score:   0.00406615014380376\n",
      "Difference between R2 score and cross validatio score is ->  0.023573725594259166\n",
      "--------------------------------**********************--------------------------------------\n",
      "*******************************************************************************\n",
      "accuracy score of -> AdaBoostRegressor()\n",
      "R2 Score:                 -0.2751044580133444\n",
      "Mean Absolute Error:      4127.496431413196\n",
      "Mean Squared error:       24134399.54562938\n",
      "Root Mean Squared Error:  4912.677431465389\n",
      "[-0.09542596  0.02219389  0.06529151  0.2032087   0.39110592]\n",
      "cross validation score:   0.11727481231464074\n",
      "Difference between R2 score and cross validatio score is ->  -0.39237927032798514\n",
      "--------------------------------**********************--------------------------------------\n"
     ]
    }
   ],
   "source": [
    "for m in model:\n",
    "    print(\"*******************************************************************************\")\n",
    "    \n",
    "    print('accuracy score of ->', m)\n",
    "    \n",
    "    m.fit(x_train,y_train)\n",
    "    \n",
    "    pred = m.predict(x_test)\n",
    "    \n",
    "    print(\"R2 Score:                \", r2_score(y_test,pred))\n",
    "    \n",
    "    print(\"Mean Absolute Error:     \", mean_absolute_error(y_test,pred))\n",
    "    \n",
    "    print(\"Mean Squared error:      \", mean_squared_error(y_test,pred))\n",
    "    \n",
    "    print(\"Root Mean Squared Error: \", np.sqrt(mean_squared_error(y_test,pred)))\n",
    "    \n",
    "    score=cross_val_score(m,x,y,cv=5)\n",
    "    \n",
    "    print(score)\n",
    "    \n",
    "    print(\"cross validation score:  \", abs(score.mean()))\n",
    "    \n",
    "    print(\"Difference between R2 score and cross validatio score is -> \",r2_score(y_test,pred)-abs(score.mean()))\n",
    "    \n",
    "    print(\"--------------------------------**********************--------------------------------------\")"
   ]
  },
  {
   "cell_type": "code",
   "execution_count": 104,
   "id": "df005c73",
   "metadata": {},
   "outputs": [],
   "source": [
    "# we that GradientBoostingRegressor give best accuracy  82% and least difference"
   ]
  },
  {
   "cell_type": "code",
   "execution_count": 105,
   "id": "e32b2b9c",
   "metadata": {},
   "outputs": [],
   "source": [
    "params={'n_estimators':range(0,200),\n",
    "        'learning_rate':[.001,0.01,.1],\n",
    "        'max_depth':[1,2,4],\n",
    "        'subsample':[.5,.75,1]}"
   ]
  },
  {
   "cell_type": "code",
   "execution_count": 106,
   "id": "3f54eb03",
   "metadata": {},
   "outputs": [],
   "source": [
    "from sklearn.model_selection import GridSearchCV"
   ]
  },
  {
   "cell_type": "code",
   "execution_count": 107,
   "id": "9643605a",
   "metadata": {},
   "outputs": [],
   "source": [
    "gridsearch = GridSearchCV(GradientBoostingRegressor(), param_grid=params,cv = 3, n_jobs = -1)"
   ]
  },
  {
   "cell_type": "code",
   "execution_count": null,
   "id": "9e4c100d",
   "metadata": {},
   "outputs": [],
   "source": [
    "gridsearch.fit(x_train,y_train)"
   ]
  },
  {
   "cell_type": "code",
   "execution_count": null,
   "id": "3ad2c901",
   "metadata": {},
   "outputs": [],
   "source": [
    "print(gridsearch.best_params_)"
   ]
  },
  {
   "cell_type": "code",
   "execution_count": null,
   "id": "a1dd8ad5",
   "metadata": {},
   "outputs": [],
   "source": [
    "gbr = gridsearch.best_estimator_"
   ]
  },
  {
   "cell_type": "code",
   "execution_count": null,
   "id": "066b8e4b",
   "metadata": {},
   "outputs": [],
   "source": [
    "gbr.fit(x_train,y_train)"
   ]
  },
  {
   "cell_type": "code",
   "execution_count": null,
   "id": "3dd76ff8",
   "metadata": {},
   "outputs": [],
   "source": [
    "print(gbr.score(x_test,y_test))"
   ]
  },
  {
   "cell_type": "code",
   "execution_count": null,
   "id": "f4f936dc",
   "metadata": {},
   "outputs": [],
   "source": [
    "y_pred =gbr.predict(x_test)"
   ]
  },
  {
   "cell_type": "code",
   "execution_count": null,
   "id": "dfdea16d",
   "metadata": {},
   "outputs": [],
   "source": [
    "accuracy = r2_score(y_test,y_pred)"
   ]
  },
  {
   "cell_type": "code",
   "execution_count": null,
   "id": "45795a5b",
   "metadata": {},
   "outputs": [],
   "source": [
    "print(accuracy)"
   ]
  },
  {
   "cell_type": "code",
   "execution_count": null,
   "id": "1ec04bfb",
   "metadata": {},
   "outputs": [],
   "source": [
    "#hyperparameter tuning give 88 % accuracy"
   ]
  },
  {
   "cell_type": "code",
   "execution_count": null,
   "id": "13c6c811",
   "metadata": {},
   "outputs": [],
   "source": [
    "#Saving the model\n",
    "import joblib \n",
    "joblib.dump(gbr,\"Flight_Ticket_Participant_Datasets_Train.pkl\")"
   ]
  },
  {
   "cell_type": "code",
   "execution_count": null,
   "id": "ea53a559",
   "metadata": {},
   "outputs": [],
   "source": [
    "# now Test Data Set"
   ]
  },
  {
   "cell_type": "code",
   "execution_count": null,
   "id": "446c3353",
   "metadata": {},
   "outputs": [],
   "source": [
    "# Load dataset and convert into dataframe\n",
    "test_data = pd.read_excel('Flight_Test_set.xlsx')\n",
    "#Looking into first 5 rows\n",
    "test_data.head()"
   ]
  },
  {
   "cell_type": "code",
   "execution_count": null,
   "id": "e54c480b",
   "metadata": {},
   "outputs": [],
   "source": [
    "# display Maximum rows\n",
    "pd.set_option('display.max.rows',None)"
   ]
  },
  {
   "cell_type": "code",
   "execution_count": null,
   "id": "6da07d1e",
   "metadata": {},
   "outputs": [],
   "source": [
    "# Checking columns name\n",
    "test_data.columns"
   ]
  },
  {
   "cell_type": "code",
   "execution_count": null,
   "id": "2ad46942",
   "metadata": {},
   "outputs": [],
   "source": [
    "# Checking shape of dataset\n",
    "test_data.shape"
   ]
  },
  {
   "cell_type": "code",
   "execution_count": null,
   "id": "7608f2a9",
   "metadata": {},
   "outputs": [],
   "source": [
    "# There are 10683  columns and 11 rows in dataset"
   ]
  },
  {
   "cell_type": "code",
   "execution_count": null,
   "id": "d0486963",
   "metadata": {},
   "outputs": [],
   "source": [
    "# Identifing the type of Problem- Output: Price is contionus data so we use regression models"
   ]
  },
  {
   "cell_type": "code",
   "execution_count": null,
   "id": "20a4a467",
   "metadata": {},
   "outputs": [],
   "source": [
    "#removing duplicate values\n",
    "test_data.drop_duplicates(inplace = True)"
   ]
  },
  {
   "cell_type": "code",
   "execution_count": null,
   "id": "e901dc3a",
   "metadata": {},
   "outputs": [],
   "source": [
    "# After removing duplicates checking shape\n",
    "test_data.shape"
   ]
  },
  {
   "cell_type": "code",
   "execution_count": null,
   "id": "949e54db",
   "metadata": {},
   "outputs": [],
   "source": [
    "# there are 26 duplicates rows  remove in dataset"
   ]
  },
  {
   "cell_type": "code",
   "execution_count": null,
   "id": "b3c66339",
   "metadata": {},
   "outputs": [],
   "source": [
    "#Checking the datatype of each attribute\n",
    "test_data.dtypes"
   ]
  },
  {
   "cell_type": "code",
   "execution_count": null,
   "id": "4c7cd140",
   "metadata": {},
   "outputs": [],
   "source": [
    "# Checking Null values of each attributes\n",
    "test_data.info()"
   ]
  },
  {
   "cell_type": "code",
   "execution_count": null,
   "id": "44ebad01",
   "metadata": {},
   "outputs": [],
   "source": [
    "# There is no null value present"
   ]
  },
  {
   "cell_type": "code",
   "execution_count": null,
   "id": "0f7dd623",
   "metadata": {},
   "outputs": [],
   "source": [
    "# Checking missing values of each attributes\n",
    "test_data.isna().sum()"
   ]
  },
  {
   "cell_type": "code",
   "execution_count": null,
   "id": "c9255686",
   "metadata": {},
   "outputs": [],
   "source": [
    "# Now there is nonull value in dataset"
   ]
  },
  {
   "cell_type": "code",
   "execution_count": null,
   "id": "e183d589",
   "metadata": {},
   "outputs": [],
   "source": [
    "test_data['Date']=test_data['Date_of_Journey'].str.split('/').str[0]\n",
    "test_data['Month']=test_data['Date_of_Journey'].str.split('/').str[1]\n",
    "test_data['Year']=test_data['Date_of_Journey'].str.split('/').str[2]"
   ]
  },
  {
   "cell_type": "code",
   "execution_count": null,
   "id": "8c82f773",
   "metadata": {},
   "outputs": [],
   "source": [
    "test_data['Route'].unique()"
   ]
  },
  {
   "cell_type": "code",
   "execution_count": null,
   "id": "182247f7",
   "metadata": {},
   "outputs": [],
   "source": [
    "#Converting Route from string to numbers\n",
    "test_data['Route1']=test_data['Route'].str.split('→').str[0]\n",
    "test_data['Route2']=test_data['Route'].str.split('→').str[1]\n",
    "test_data['Route3']=test_data['Route'].str.split('→').str[2]\n",
    "test_data['Route4']=test_data['Route'].str.split('→').str[3]\n",
    "test_data['Route5']=test_data['Route'].str.split('→').str[4]"
   ]
  },
  {
   "cell_type": "code",
   "execution_count": null,
   "id": "713e418d",
   "metadata": {},
   "outputs": [],
   "source": [
    "test_data['Route1'].isna().sum()"
   ]
  },
  {
   "cell_type": "code",
   "execution_count": null,
   "id": "ad07a2f2",
   "metadata": {},
   "outputs": [],
   "source": [
    "test_data['Route2'].isna().sum()"
   ]
  },
  {
   "cell_type": "code",
   "execution_count": null,
   "id": "037eb59a",
   "metadata": {},
   "outputs": [],
   "source": [
    "test_data['Route3'].isna().sum()"
   ]
  },
  {
   "cell_type": "code",
   "execution_count": null,
   "id": "a0209df9",
   "metadata": {},
   "outputs": [],
   "source": [
    "test_data['Route3']=test_data['Route3'].fillna(test_data['Route3'].mode()[0])"
   ]
  },
  {
   "cell_type": "code",
   "execution_count": null,
   "id": "6c6ac512",
   "metadata": {},
   "outputs": [],
   "source": [
    "test_data['Route4'].isna().sum()"
   ]
  },
  {
   "cell_type": "code",
   "execution_count": null,
   "id": "7267c1e8",
   "metadata": {},
   "outputs": [],
   "source": [
    "test_data['Route5'].isna().sum()"
   ]
  },
  {
   "cell_type": "code",
   "execution_count": null,
   "id": "69acd9d1",
   "metadata": {},
   "outputs": [],
   "source": [
    "# Route4 and Route5 columns have more than 50% null values. So, we will drop these columns.\n",
    "test_data.drop(['Route4','Route5'],axis=1,inplace=True)"
   ]
  },
  {
   "cell_type": "code",
   "execution_count": null,
   "id": "cc359867",
   "metadata": {},
   "outputs": [],
   "source": [
    "test_data['Dep_hours']=test_data['Dep_Time'].str.split(':').str[0]\n",
    "test_data['Dep_Minutes']=test_data['Dep_Time'].str.split(':').str[1]"
   ]
  },
  {
   "cell_type": "code",
   "execution_count": null,
   "id": "04a6a491",
   "metadata": {},
   "outputs": [],
   "source": [
    "test_data['Dep_hours']=test_data['Dep_hours'].astype('int')\n",
    "test_data['Dep_Minutes']=test_data['Dep_Minutes'].astype('int')"
   ]
  },
  {
   "cell_type": "code",
   "execution_count": null,
   "id": "840785ab",
   "metadata": {},
   "outputs": [],
   "source": [
    "test_data['Arrival_Time']=test_data['Arrival_Time'].str.split(' ').str[0]"
   ]
  },
  {
   "cell_type": "code",
   "execution_count": null,
   "id": "f580564d",
   "metadata": {},
   "outputs": [],
   "source": [
    "test_data['Arrival_Hours'] =test_data['Arrival_Time'].str.split(':').str[0].astype('int')\n",
    "test_data['Arrival_Minutes'] =test_data['Arrival_Time'].str.split(':').str[1].astype('int')"
   ]
  },
  {
   "cell_type": "code",
   "execution_count": null,
   "id": "f96f0336",
   "metadata": {},
   "outputs": [],
   "source": [
    "test_data['Duration_Hours']=test_data['Duration'].str.split('h').str[0]"
   ]
  },
  {
   "cell_type": "code",
   "execution_count": null,
   "id": "13cb1856",
   "metadata": {},
   "outputs": [],
   "source": [
    "test_data['Duration_Hours']=test_data['Duration_Hours'].replace('5m','0')"
   ]
  },
  {
   "cell_type": "code",
   "execution_count": null,
   "id": "90320c04",
   "metadata": {},
   "outputs": [],
   "source": [
    "test_data['Duration_Hours']=test_data['Duration_Hours'].astype('int')"
   ]
  },
  {
   "cell_type": "code",
   "execution_count": null,
   "id": "c8f44ba6",
   "metadata": {},
   "outputs": [],
   "source": [
    "test_data['Duration_Minutes']=test_data['Duration'].str.split(' ').str[1].str.split('m').str[0]"
   ]
  },
  {
   "cell_type": "code",
   "execution_count": null,
   "id": "87d80a3c",
   "metadata": {},
   "outputs": [],
   "source": [
    "test_data['Duration_Minutes']=test_data['Duration_Minutes'].fillna(test_data['Duration_Minutes'].mode()[0])"
   ]
  },
  {
   "cell_type": "code",
   "execution_count": null,
   "id": "2105b63f",
   "metadata": {},
   "outputs": [],
   "source": [
    "test_data['Duration_Minutes']=test_data['Duration_Minutes'].astype('int')"
   ]
  },
  {
   "cell_type": "code",
   "execution_count": null,
   "id": "bf75a28c",
   "metadata": {},
   "outputs": [],
   "source": [
    "# As we have split 'Date_of_Journey','Route','Dep_Time' , 'Arrival_Time','Duration' columns. So, we well drop these columns.\n",
    "test_data.drop(['Date_of_Journey','Route','Dep_Time', 'Arrival_Time','Duration'],axis=1,inplace=True)"
   ]
  },
  {
   "cell_type": "code",
   "execution_count": null,
   "id": "5c54cb02",
   "metadata": {},
   "outputs": [],
   "source": [
    "test_data.head()"
   ]
  },
  {
   "cell_type": "code",
   "execution_count": null,
   "id": "68853e2d",
   "metadata": {},
   "outputs": [],
   "source": [
    "# Now we Separate string and interger datatype\n",
    "object_dtypes=[]\n",
    "for i in test_data.columns:\n",
    "    if test_data[i].dtypes=='object':\n",
    "        object_dtypes.append(i)"
   ]
  },
  {
   "cell_type": "code",
   "execution_count": null,
   "id": "48b06d84",
   "metadata": {},
   "outputs": [],
   "source": [
    "# Now we convert object dtypes into numerica dtypes\n",
    "from sklearn.preprocessing import LabelEncoder\n",
    "le = LabelEncoder()\n",
    "for j in object_dtypes:\n",
    "    test_data[j]= le.fit_transform(test_data[j])"
   ]
  },
  {
   "cell_type": "code",
   "execution_count": null,
   "id": "82205215",
   "metadata": {},
   "outputs": [],
   "source": [
    "test_data.shape"
   ]
  },
  {
   "cell_type": "code",
   "execution_count": null,
   "id": "be7da374",
   "metadata": {},
   "outputs": [],
   "source": [
    "test_data.describe()"
   ]
  },
  {
   "cell_type": "code",
   "execution_count": null,
   "id": "89c603b3",
   "metadata": {},
   "outputs": [],
   "source": [
    "#Checking Correlation\n",
    "test_data.corr()"
   ]
  },
  {
   "cell_type": "code",
   "execution_count": null,
   "id": "bdfb8602",
   "metadata": {},
   "outputs": [],
   "source": [
    "# we can understanding properly as we use heatmap to find correleation"
   ]
  },
  {
   "cell_type": "code",
   "execution_count": null,
   "id": "2bef9101",
   "metadata": {},
   "outputs": [],
   "source": [
    "#Checking of correlation of features with each other\n",
    "plt.figure(figsize=(25,20))\n",
    "sns.heatmap(test_data.corr(),cmap='YlOrRd_r',annot=True)\n",
    "plt.show()"
   ]
  },
  {
   "cell_type": "code",
   "execution_count": null,
   "id": "53eacd99",
   "metadata": {},
   "outputs": [],
   "source": [
    "# Source and route 1 has positive correlationship"
   ]
  },
  {
   "cell_type": "code",
   "execution_count": null,
   "id": "42a22c40",
   "metadata": {},
   "outputs": [],
   "source": [
    "# let's see how data is distributed for every column\n",
    "plt.figure(figsize=(15,13), facecolor='white')\n",
    "plotnumber = 1\n",
    "\n",
    "for column in test_data:\n",
    "    if plotnumber<=18 :     # as there are 17 columns in the data\n",
    "        ax = plt.subplot(3,6,plotnumber)\n",
    "        sns.distplot(test_data[column])\n",
    "        plt.xlabel(column,fontsize=15)\n",
    "    plotnumber+=1\n",
    "plt.show()"
   ]
  },
  {
   "cell_type": "code",
   "execution_count": null,
   "id": "4824ef9a",
   "metadata": {},
   "outputs": [],
   "source": [
    "# Checking Skwness\n",
    "test_data.skew()"
   ]
  },
  {
   "cell_type": "code",
   "execution_count": null,
   "id": "f6bcf88b",
   "metadata": {},
   "outputs": [],
   "source": [
    "# Because of all object dtype we ignore skewness"
   ]
  },
  {
   "cell_type": "code",
   "execution_count": null,
   "id": "4ea36f2d",
   "metadata": {},
   "outputs": [],
   "source": [
    "from sklearn.preprocessing import StandardScaler\n",
    "scaler = StandardScaler()\n",
    "x_scaler = scaler.fit_transform(test_data)"
   ]
  },
  {
   "cell_type": "code",
   "execution_count": null,
   "id": "ff7906b3",
   "metadata": {},
   "outputs": [],
   "source": [
    "import joblib\n",
    "Price= joblib.load(\"Flight_Ticket_Participant_Datasets_Train.pkl\")\n",
    "Price_prediction = Price.predict(x_scaler)\n",
    "Price_prediction"
   ]
  },
  {
   "cell_type": "code",
   "execution_count": null,
   "id": "51855457",
   "metadata": {},
   "outputs": [],
   "source": [
    "Flight=pd.DataFrame({\"Flight Price\":Price_prediction})\n",
    "Flight.head"
   ]
  },
  {
   "cell_type": "code",
   "execution_count": null,
   "id": "87b6f05a",
   "metadata": {},
   "outputs": [],
   "source": []
  }
 ],
 "metadata": {
  "kernelspec": {
   "display_name": "Python 3 (ipykernel)",
   "language": "python",
   "name": "python3"
  },
  "language_info": {
   "codemirror_mode": {
    "name": "ipython",
    "version": 3
   },
   "file_extension": ".py",
   "mimetype": "text/x-python",
   "name": "python",
   "nbconvert_exporter": "python",
   "pygments_lexer": "ipython3",
   "version": "3.9.12"
  }
 },
 "nbformat": 4,
 "nbformat_minor": 5
}
